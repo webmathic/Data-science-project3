{
  "nbformat": 4,
  "nbformat_minor": 0,
  "metadata": {
    "colab": {
      "provenance": []
    },
    "kernelspec": {
      "name": "python3",
      "display_name": "Python 3"
    },
    "language_info": {
      "name": "python"
    }
  },
  "cells": [
    {
      "cell_type": "markdown",
      "source": [
        "**TASK 1**"
      ],
      "metadata": {
        "id": "gS3hAQ2qHTyH"
      }
    },
    {
      "cell_type": "code",
      "execution_count": 42,
      "metadata": {
        "colab": {
          "base_uri": "https://localhost:8080/"
        },
        "id": "0mN1AXqNBYSy",
        "outputId": "bfc6e902-17e8-43b7-ab76-76de09311e8a"
      },
      "outputs": [
        {
          "output_type": "stream",
          "name": "stdout",
          "text": [
            "Looking in indexes: https://pypi.org/simple, https://us-python.pkg.dev/colab-wheels/public/simple/\n",
            "Requirement already satisfied: transformers in /usr/local/lib/python3.9/dist-packages (4.28.1)\n",
            "Requirement already satisfied: filelock in /usr/local/lib/python3.9/dist-packages (from transformers) (3.11.0)\n",
            "Requirement already satisfied: huggingface-hub<1.0,>=0.11.0 in /usr/local/lib/python3.9/dist-packages (from transformers) (0.14.0)\n",
            "Requirement already satisfied: tokenizers!=0.11.3,<0.14,>=0.11.1 in /usr/local/lib/python3.9/dist-packages (from transformers) (0.13.3)\n",
            "Requirement already satisfied: regex!=2019.12.17 in /usr/local/lib/python3.9/dist-packages (from transformers) (2022.10.31)\n",
            "Requirement already satisfied: requests in /usr/local/lib/python3.9/dist-packages (from transformers) (2.27.1)\n",
            "Requirement already satisfied: tqdm>=4.27 in /usr/local/lib/python3.9/dist-packages (from transformers) (4.65.0)\n",
            "Requirement already satisfied: packaging>=20.0 in /usr/local/lib/python3.9/dist-packages (from transformers) (23.1)\n",
            "Requirement already satisfied: pyyaml>=5.1 in /usr/local/lib/python3.9/dist-packages (from transformers) (6.0)\n",
            "Requirement already satisfied: numpy>=1.17 in /usr/local/lib/python3.9/dist-packages (from transformers) (1.22.4)\n",
            "Requirement already satisfied: fsspec in /usr/local/lib/python3.9/dist-packages (from huggingface-hub<1.0,>=0.11.0->transformers) (2023.4.0)\n",
            "Requirement already satisfied: typing-extensions>=3.7.4.3 in /usr/local/lib/python3.9/dist-packages (from huggingface-hub<1.0,>=0.11.0->transformers) (4.5.0)\n",
            "Requirement already satisfied: urllib3<1.27,>=1.21.1 in /usr/local/lib/python3.9/dist-packages (from requests->transformers) (1.26.15)\n",
            "Requirement already satisfied: idna<4,>=2.5 in /usr/local/lib/python3.9/dist-packages (from requests->transformers) (3.4)\n",
            "Requirement already satisfied: charset-normalizer~=2.0.0 in /usr/local/lib/python3.9/dist-packages (from requests->transformers) (2.0.12)\n",
            "Requirement already satisfied: certifi>=2017.4.17 in /usr/local/lib/python3.9/dist-packages (from requests->transformers) (2022.12.7)\n"
          ]
        }
      ],
      "source": [
        "!pip install transformers"
      ]
    },
    {
      "cell_type": "code",
      "source": [
        "import numpy as np\n",
        "import os\n",
        "import pandas as pd\n",
        "\n",
        "\n",
        "import numpy as np\n",
        "import io \n",
        "from sklearn.feature_extraction.text import CountVectorizer\n",
        "from sklearn.naive_bayes import MultinomialNB\n",
        "from sklearn.pipeline import Pipeline\n",
        "from sklearn.metrics import confusion_matrix, f1_score, accuracy_score\n",
        "\n",
        "import pickle "
      ],
      "metadata": {
        "id": "B40N9hLQBvux"
      },
      "execution_count": 43,
      "outputs": []
    },
    {
      "cell_type": "code",
      "source": [
        "student_id = 2204923 "
      ],
      "metadata": {
        "id": "42BMCo5zB4gN"
      },
      "execution_count": 44,
      "outputs": []
    },
    {
      "cell_type": "code",
      "source": [
        "\n",
        "#numpy seed\n",
        "np.random.seed(student_id)"
      ],
      "metadata": {
        "id": "rkHxDkChB_Qy"
      },
      "execution_count": 45,
      "outputs": []
    },
    {
      "cell_type": "markdown",
      "source": [
        "In this part, i want to run 4 different classifier for OLID dataset for my text classiffication. I will use Support vector machine classifier, Decision Tree classifier, Convolution Neural Network and Long short term memory(a type of recurrent neural network)"
      ],
      "metadata": {
        "id": "a46AHnrLYAWZ"
      }
    },
    {
      "cell_type": "code",
      "source": [
        "# Mount Google Drive\n",
        "from google.colab import drive\n",
        "drive.mount('/content/gdrive', force_remount=True)"
      ],
      "metadata": {
        "colab": {
          "base_uri": "https://localhost:8080/"
        },
        "id": "AApQ1ffQ04h1",
        "outputId": "a68a099f-fd6f-4523-ed1c-02a2caf48cc9"
      },
      "execution_count": 46,
      "outputs": [
        {
          "output_type": "stream",
          "name": "stdout",
          "text": [
            "Mounted at /content/gdrive\n"
          ]
        }
      ]
    },
    {
      "cell_type": "markdown",
      "source": [
        "Proportion for each label in the train dataset"
      ],
      "metadata": {
        "id": "o7JG7lfuWA5_"
      }
    },
    {
      "cell_type": "code",
      "source": [
        "import pandas as pd\n",
        "\n",
        "# read the dataset\n",
        "traindf = pd.read_csv(\"/content/gdrive/MyDrive/CE807/Assignment2/2204923/train.csv\", index_col=0)\n",
        "\n",
        "# count the number of offensive and non-offensive examples\n",
        "train_offensive_count = (traindf[\"label\"] == \"OFF\").sum()\n",
        "train_non_offensive_count = (traindf[\"label\"] == \"NOT\").sum()\n",
        "\n",
        "# calculate the proportions\n",
        "total_count = len(traindf)\n",
        "train_offensive_proportion = (train_offensive_count / total_count)*100\n",
        "train_non_offensive_proportion = (train_non_offensive_count / total_count)*100\n",
        "\n",
        "print(traindf.head())\n",
        "print(\"\")\n",
        "print(\"shape of validation dataset:\")\n",
        "print(traindf.shape)\n",
        "print(\"\")\n",
        "print(\"proportion of each label\")\n",
        "print(f\"Proportion of offensive speech: {train_offensive_proportion:.2f}\")\n",
        "print(f\"Proportion of non-offensive speech: {train_non_offensive_proportion:.2f}\")\n"
      ],
      "metadata": {
        "colab": {
          "base_uri": "https://localhost:8080/"
        },
        "id": "HOCBV2aZSn3C",
        "outputId": "65ea4b8c-d8c3-410c-fe30-1c9af277fafd"
      },
      "execution_count": 48,
      "outputs": [
        {
          "output_type": "stream",
          "name": "stdout",
          "text": [
            "                                                   tweet label\n",
            "id                                                            \n",
            "42884  @USER I’m done with you as well. An INTENTIONA...   NOT\n",
            "92152  I now have over 6k followers.  Only 94k to go ...   NOT\n",
            "65475  @USER Tom was bought! He is more interested in...   NOT\n",
            "22144  @USER @USER Even her brother thinks she is a m...   OFF\n",
            "81048  @USER @USER @USER @USER @USER I can understand...   OFF\n",
            "\n",
            "shape of validation dataset:\n",
            "(12313, 2)\n",
            "\n",
            "proportion of each label\n",
            "Proportion of offensive speech: 33.23\n",
            "Proportion of non-offensive speech: 66.77\n"
          ]
        }
      ]
    },
    {
      "cell_type": "markdown",
      "source": [
        "proportion for labels in the validation dataset"
      ],
      "metadata": {
        "id": "vXx9_RwYWNcP"
      }
    },
    {
      "cell_type": "code",
      "source": [
        "import pandas as pd\n",
        "\n",
        "# read the dataset\n",
        "validdf = pd.read_csv(\"/content/gdrive/MyDrive/CE807/Assignment2/2204923/valid.csv\", index_col=0)\n",
        "\n",
        "# count the number of offensive and non-offensive examples\n",
        "valid_offensive_count = (validdf[\"label\"] == \"OFF\").sum()\n",
        "valid_non_offensive_count = (validdf[\"label\"] == \"NOT\").sum()\n",
        "\n",
        "# calculate the proportions\n",
        "total_count = len(validdf)\n",
        "valid_offensive_proportion = (valid_offensive_count / total_count)*100\n",
        "valid_non_offensive_proportion = (valid_non_offensive_count / total_count)*100\n",
        "\n",
        "print(validdf.head())\n",
        "print(\"\")\n",
        "print(\"shape of validation dataset:\")\n",
        "print(validdf.shape)\n",
        "print(\"\")\n",
        "print(\"proportion of each label\")\n",
        "print(f\"Proportion of offensive speech: {valid_offensive_proportion:.2f}\")\n",
        "print(f\"Proportion of non-offensive speech: {valid_non_offensive_proportion:.2f}\")\n"
      ],
      "metadata": {
        "colab": {
          "base_uri": "https://localhost:8080/"
        },
        "id": "z-vDnWD6WUkZ",
        "outputId": "f41271d8-98a5-417b-fd09-9307ac16e8c6"
      },
      "execution_count": 49,
      "outputs": [
        {
          "output_type": "stream",
          "name": "stdout",
          "text": [
            "                                                   tweet label\n",
            "id                                                            \n",
            "12476  @USER @USER @USER Trump is declassifying infor...   NOT\n",
            "23242  @USER Ha even with them trying to rig the syst...   NOT\n",
            "97885  @USER @USER @USER Man you really thought this ...   NOT\n",
            "43414  @USER Ms. Clinton - you are a class act. My re...   OFF\n",
            "81403  @USER It’s still here at 753. If someone did t...   NOT\n",
            "\n",
            "shape of validation dataset:\n",
            "(927, 2)\n",
            "\n",
            "proportion of each label\n",
            "Proportion of offensive speech: 33.23\n",
            "Proportion of non-offensive speech: 66.77\n"
          ]
        }
      ]
    },
    {
      "cell_type": "markdown",
      "source": [
        "Getting the proportion and shape of test dataset."
      ],
      "metadata": {
        "id": "DSiOtR_qYBbW"
      }
    },
    {
      "cell_type": "code",
      "source": [
        "import pandas as pd\n",
        "\n",
        "# read the dataset\n",
        "testdf = pd.read_csv(\"/content/gdrive/MyDrive/CE807/Assignment2/2204923/test.csv\", index_col=0)\n",
        "\n",
        "# count the number of offensive and non-offensive examples\n",
        "test_offensive_count = (testdf[\"label\"] == \"OFF\").sum()\n",
        "test_non_offensive_count = (testdf[\"label\"] == \"NOT\").sum()\n",
        "\n",
        "# calculate the proportions\n",
        "total_count = len(testdf)\n",
        "test_offensive_proportion = (test_offensive_count / total_count)*100\n",
        "test_non_offensive_proportion = (test_non_offensive_count / total_count)*100\n",
        "\n",
        "print(testdf.head())\n",
        "print(\"\")\n",
        "print(\"shape of validation dataset:\")\n",
        "print(testdf.shape)\n",
        "print(\"\")\n",
        "print(\"proportion of each label\")\n",
        "print(f\"Proportion of offensive speech: {test_offensive_proportion:.2f}\")\n",
        "print(f\"Proportion of non-offensive speech: {test_non_offensive_proportion:.2f}\")\n"
      ],
      "metadata": {
        "colab": {
          "base_uri": "https://localhost:8080/"
        },
        "id": "sZDjQfpCYNfK",
        "outputId": "58d3bebd-f4d9-429c-df1d-47e6a12fba6a"
      },
      "execution_count": 50,
      "outputs": [
        {
          "output_type": "stream",
          "name": "stdout",
          "text": [
            "                                                   tweet label\n",
            "id                                                            \n",
            "15923  #WhoIsQ #WheresTheServer #DumpNike #DECLASFISA...   OFF\n",
            "27014  #ConstitutionDay is revered by Conservatives, ...   NOT\n",
            "30530  #FOXNews #NRA #MAGA #POTUS #TRUMP #2ndAmendmen...   NOT\n",
            "13876  #Watching #Boomer getting the news that she is...   NOT\n",
            "60133  #NoPasaran: Unity demo to oppose the far-right...   OFF\n",
            "\n",
            "shape of validation dataset:\n",
            "(860, 2)\n",
            "\n",
            "proportion of each label\n",
            "Proportion of offensive speech: 27.91\n",
            "Proportion of non-offensive speech: 72.09\n"
          ]
        }
      ]
    },
    {
      "cell_type": "markdown",
      "source": [
        "Testing the accuracy performance of the Support vector machine classiffier"
      ],
      "metadata": {
        "id": "b9mYzubzaq-c"
      }
    },
    {
      "cell_type": "code",
      "source": [
        "import pandas as pd\n",
        "from sklearn.feature_extraction.text import CountVectorizer, TfidfVectorizer\n",
        "from sklearn.svm import SVC\n",
        "from sklearn.metrics import f1_score, precision_score, recall_score, confusion_matrix\n",
        "import numpy as np\n",
        "import joblib\n",
        "from nltk.corpus import stopwords\n",
        "\n",
        "\n",
        "\n",
        "# Define the function for loading the data\n",
        "def load_data(file_path):\n",
        "    data = pd.read_csv(file_path)\n",
        "    X = data['tweet'].values\n",
        "    y = data['label'].values\n",
        "    return X, y\n",
        "\n",
        "# Define the function for extracting handcrafted features from the text\n",
        "def extract_handcrafted_features(texts):\n",
        "    features = []\n",
        "    for text in texts:\n",
        "        # Extract handcrafted features such as character n-grams, punctuation marks, capitalization, etc.\n",
        "        # Append the features to the list\n",
        "        features.append([len(text), len(text.split()), len(text.splitlines())])\n",
        "    return np.array(features)\n",
        "\n",
        "# Load the data and split it into training and testing sets\n",
        "X_train, y_train = load_data('/content/gdrive/MyDrive/CE807/Assignment2/2204923/train.csv')\n",
        "X_test, y_test = load_data('/content/gdrive/MyDrive/CE807/Assignment2/2204923/test.csv')\n",
        "\n",
        "# Represent the text using word n-grams and stop words of English\n",
        "vectorizer = CountVectorizer(ngram_range=(1,3), stop_words='english')\n",
        "X_train_ngrams = vectorizer.fit_transform(X_train)\n",
        "X_test_ngrams = vectorizer.transform(X_test)\n",
        "\n",
        "# Train the SVM model with word n-grams and linear kernel\n",
        "svm = SVC(C=1, gamma=0.01, kernel='linear')\n",
        "svm.fit(X_train_ngrams, y_train)\n",
        "\n",
        "# Evaluate the SVM model on the test set with word n-grams\n",
        "y_pred_svm_ngrams = svm.predict(X_test_ngrams)\n",
        "from sklearn.metrics import accuracy_score\n",
        "accuracy_svm_ngrams = accuracy_score(y_test, y_pred_svm_ngrams)\n",
        "\n",
        "# Save the model to a file\n",
        "joblib.dump(svm, '/content/gdrive/MyDrive/CE807/Assignment2/2204923/svm_model.pkl')\n",
        "\n",
        "# Compute the evaluation metrics\n",
        "print(\"SVM with word n-grams and stop words of English:\")\n",
        "print(\"F1 score:\", f1_score(y_test, y_pred_svm_ngrams, average='binary', pos_label='OFF'))\n",
        "print(\"Precision:\", precision_score(y_test, y_pred_svm_ngrams, average='binary', pos_label='OFF'))\n",
        "print(\"Recall:\", recall_score(y_test, y_pred_svm_ngrams, average='binary', pos_label='OFF'))\n",
        "print(\"Macro F1 score:\", f1_score(y_test, y_pred_svm_ngrams, average='macro'))\n",
        "print(\"Confusion matrix:\\n\", confusion_matrix(y_test, y_pred_svm_ngrams))\n",
        "print(\"Accuracy of SVM with word n-grams and stop words of English:\", accuracy_svm_ngrams)\n"
      ],
      "metadata": {
        "colab": {
          "base_uri": "https://localhost:8080/"
        },
        "id": "Rhnj4377DHyx",
        "outputId": "73912f05-b5ce-4dea-ac2d-c9477cbbb097"
      },
      "execution_count": 51,
      "outputs": [
        {
          "output_type": "stream",
          "name": "stdout",
          "text": [
            "SVM with word n-grams and stop words of English:\n",
            "F1 score: 0.5672371638141809\n",
            "Precision: 0.6863905325443787\n",
            "Recall: 0.48333333333333334\n",
            "Macro F1 score: 0.7161128610832919\n",
            "Confusion matrix:\n",
            " [[567  53]\n",
            " [124 116]]\n",
            "Accuracy of SVM with word n-grams and stop words of English: 0.7941860465116279\n"
          ]
        }
      ]
    },
    {
      "cell_type": "markdown",
      "source": [
        "This code implements a binary text classification task using Support Vector Machines (SVM) algorithm and evaluates their performance using various evaluation metrics such as F1 score, precision, recall, and confusion matrix. The input data is loaded from CSV files, and then pre-processed using CountVectorizer which convert collection of text documents to a vector, to represent the text as word n-grams. Ngram are use in analysing text with sequence of words.  i define a function, Handcrafted features such as character n-grams, punctuation marks (stop word is set to english language), and capitalization are also extracted from the text. The SVM model is trained on the n-gram features. The trained models are then used to predict the labels of the test set which gives approximately 0.8  accuracy( we can also represent in percentage by multiplying it by 100.which give 80%) but i prefer representing it statistically."
      ],
      "metadata": {
        "id": "LLUaO9Iaclm-"
      }
    },
    {
      "cell_type": "markdown",
      "source": [
        "**Using decision Tree as text classifier**"
      ],
      "metadata": {
        "id": "QEOa69xGi9Ya"
      }
    },
    {
      "cell_type": "code",
      "source": [
        "import pandas as pd\n",
        "from sklearn.feature_extraction.text import CountVectorizer\n",
        "from sklearn.tree import DecisionTreeClassifier\n",
        "from sklearn.metrics import accuracy_score, f1_score, precision_score, recall_score, confusion_matrix\n",
        "import joblib\n",
        "\n",
        "# Define the function for loading the data\n",
        "def load_data(file_path):\n",
        "    data = pd.read_csv('/content/gdrive/MyDrive/CE807/Assignment2/2204923/train.csv')\n",
        "    X = data['tweet'].values\n",
        "    y = data['label'].values\n",
        "    return X, y\n",
        "\n",
        "# Load the data and split it into training and testing sets\n",
        "X_train, y_train = load_data('/content/gdrive/MyDrive/CE807/Assignment2/2204923/train.csv')\n",
        "X_test, y_dtc_test = load_data('/content/gdrive/MyDrive/CE807/Assignment2/2204923/test.csv')\n",
        "\n",
        "# Represent the text using word n-grams\n",
        "vectorizer = CountVectorizer(ngram_range=(1,3))\n",
        "X_train_ngrams = vectorizer.fit_transform(X_train)\n",
        "X_test_ngrams = vectorizer.transform(X_test)\n",
        "\n",
        "# Train the Decision Tree Classifier with word n-grams\n",
        "dtc = DecisionTreeClassifier()\n",
        "dtc.fit(X_train_ngrams, y_train)\n",
        "\n",
        "# Predict on the test set with word n-grams\n",
        "y_pred_dtc_ngrams = dtc.predict(X_test_ngrams)\n",
        "\n",
        "# Save the model to a file\n",
        "joblib.dump(dtc, '/content/gdrive/MyDrive/CE807/Assignment2/2204923/dtc_model.pkl')\n",
        "\n",
        "# Evaluate the Decision Tree Classifier on the test set with word n-grams\n",
        "accuracy_dtc_ngrams = accuracy_score(y_dtc_test, y_pred_dtc_ngrams)\n",
        "f1_dtc_ngrams = f1_score(y_dtc_test, y_pred_dtc_ngrams, average='macro')\n",
        "precision_dtc_ngrams = precision_score(y_dtc_test, y_pred_dtc_ngrams, average='macro')\n",
        "recall_dtc_ngrams = recall_score(y_dtc_test, y_pred_dtc_ngrams, average='macro')\n",
        "confusion_matrix_dtc_ngrams = confusion_matrix(y_dtc_test, y_pred_dtc_ngrams, labels=['NOT', 'OFF'])\n",
        "print(\" \")\n",
        "# Print the metrics of the Decision Tree Classifier with word n-grams\n",
        "print(\"Accuracy of Decision Tree Classifier with word n-grams:\", accuracy_dtc_ngrams)\n",
        "print(\"F1 score of Decision Tree Classifier with word n-grams:\", f1_dtc_ngrams)\n",
        "print(\"Precision of Decision Tree Classifier with word n-grams:\", precision_dtc_ngrams)\n",
        "print(\"Recall of Decision Tree Classifier with word n-grams:\", recall_dtc_ngrams)\n",
        "print(\"Confusion matrix of Decision Tree Classifier with word n-grams:\")\n",
        "print(confusion_matrix_dtc_ngrams)"
      ],
      "metadata": {
        "colab": {
          "base_uri": "https://localhost:8080/"
        },
        "id": "gOYOJFAr8NNF",
        "outputId": "436588b5-5ac6-431f-af12-8e496e3dd39c"
      },
      "execution_count": 52,
      "outputs": [
        {
          "output_type": "stream",
          "name": "stdout",
          "text": [
            " \n",
            "Accuracy of Decision Tree Classifier with word n-grams: 0.9987817753593763\n",
            "F1 score of Decision Tree Classifier with word n-grams: 0.998626161846101\n",
            "Precision of Decision Tree Classifier with word n-grams: 0.9990893637688198\n",
            "Recall of Decision Tree Classifier with word n-grams: 0.9981671554252199\n",
            "Confusion matrix of Decision Tree Classifier with word n-grams:\n",
            "[[8221    0]\n",
            " [  15 4077]]\n"
          ]
        }
      ]
    },
    {
      "cell_type": "markdown",
      "source": [
        "This code loads a dataset of tweets, preprocesses the text data by converting it to word n-grams, trains a decision tree classifier on the preprocessed data, and evaluates the classifier on a test set using various performance metrics such as accuracy, F1 score, precision, recall, and confusion matrix. The code defines a function for loading the data from a CSV file and another function for extracting the n-gram features from the text data. The accuracy of the fitted model is 0.99.\n",
        "\n",
        "\n",
        "\n",
        "\n"
      ],
      "metadata": {
        "id": "dAIltF-Ik7O_"
      }
    },
    {
      "cell_type": "markdown",
      "source": [
        "**Using CNN as the fitted model**"
      ],
      "metadata": {
        "id": "ZNAwda8McnfZ"
      }
    },
    {
      "cell_type": "code",
      "source": [
        "import pandas as pd\n",
        "import numpy as np\n",
        "import tensorflow as tf\n",
        "from tensorflow.keras.preprocessing.text import Tokenizer\n",
        "from tensorflow.keras.preprocessing.sequence import pad_sequences\n",
        "from tensorflow.keras.layers import Embedding, Conv1D, MaxPooling1D, Flatten, Dense, Dropout\n",
        "from tensorflow.keras.models import Sequential\n",
        "from sklearn.metrics import f1_score, precision_score, recall_score, confusion_matrix\n",
        "from sklearn.preprocessing import LabelEncoder\n",
        "import nltk\n",
        "nltk.download(\"stopwords\")\n",
        "from nltk.corpus import stopwords\n",
        "\n",
        "# Load the stop words\n",
        "stop_words = set(stopwords.words('english'))\n",
        "\n",
        "# Load the data\n",
        "train_data = pd.read_csv('/content/gdrive/MyDrive/CE807/Assignment2/2204923/train.csv')\n",
        "test_data = pd.read_csv('/content/gdrive/MyDrive/CE807/Assignment2/2204923/test.csv')\n",
        "\n",
        "# Tokenize the text and remove stop words\n",
        "tokenizer = Tokenizer()\n",
        "tokenizer.fit_on_texts(train_data['tweet'])\n",
        "X_train = tokenizer.texts_to_sequences(train_data['tweet'])\n",
        "X_train = [[word for word in seq if word not in stop_words] for seq in X_train]\n",
        "X_test = tokenizer.texts_to_sequences(test_data['tweet'])\n",
        "X_test = [[word for word in seq if word not in stop_words] for seq in X_test]\n",
        "\n",
        "# Pad the sequences to have the same length\n",
        "max_len = 100\n",
        "X_train = pad_sequences(X_train, maxlen=max_len, padding='post', truncating='post')\n",
        "X_test = pad_sequences(X_test, maxlen=max_len, padding='post', truncating='post')\n",
        "\n",
        "# Define the CNN model\n",
        "model = Sequential()\n",
        "model.add(Embedding(input_dim=len(tokenizer.word_index)+1, output_dim=100, input_length=max_len))\n",
        "model.add(Conv1D(filters=128, kernel_size=5, activation='relu'))\n",
        "model.add(MaxPooling1D(pool_size=2))\n",
        "model.add(Flatten())\n",
        "model.add(Dense(units=64, activation='relu'))\n",
        "model.add(Dropout(0.5))\n",
        "model.add(Dense(units=1, activation='sigmoid'))\n",
        "\n",
        "# Compile the model\n",
        "model.compile(loss='binary_crossentropy', optimizer='adam', metrics=['accuracy'])\n",
        "\n",
        "# Convert labels to numerical values\n",
        "encoder = LabelEncoder()\n",
        "train_data['label'] = encoder.fit_transform(train_data['label'])\n",
        "test_data['label'] = encoder.transform(test_data['label'])\n",
        "\n",
        "# Train the model\n",
        "history = model.fit(X_train, train_data['label'], epochs=10, batch_size=64, validation_split=0.1)\n",
        "\n",
        "# Evaluate the model on the test set\n",
        "y_pred = model.predict(X_test)\n",
        "y_pred = np.round(y_pred).astype(int)\n",
        "accuracy = model.evaluate(X_test, test_data['label'], verbose=0)[1]\n",
        "f1 = f1_score(test_data['label'], y_pred)\n",
        "precision = precision_score(test_data['label'], y_pred)\n",
        "recall = recall_score(test_data['label'], y_pred)\n",
        "cm = confusion_matrix(test_data['label'], y_pred)\n",
        "\n",
        "# Print the metrics\n",
        "print(\"Accuracy of CNN:\", accuracy)\n",
        "print(\"F1 score of CNN:\", f1)\n",
        "print(\"Precision of CNN:\", precision)\n",
        "print(\"Recall of CNN:\", recall)\n",
        "print(\"Confusion matrix of CNN:\")\n",
        "print(cm)\n",
        "\n",
        "# Save the model and prediction outcomes\n",
        "model.save('/content/gdrive/MyDrive/CE807/Assignment2/2204923/cnn_model.h5')\n",
        "np.savetxt('/content/gdrive/MyDrive/CE807/Assignment2/2204923/output_test_cnn.csv', y_pred, fmt='%d')\n"
      ],
      "metadata": {
        "colab": {
          "base_uri": "https://localhost:8080/"
        },
        "id": "IG06kJ_j5CA6",
        "outputId": "ce867d46-ba88-4f42-8cbf-75ff04ba32b2"
      },
      "execution_count": 53,
      "outputs": [
        {
          "output_type": "stream",
          "name": "stderr",
          "text": [
            "[nltk_data] Downloading package stopwords to /root/nltk_data...\n",
            "[nltk_data]   Package stopwords is already up-to-date!\n"
          ]
        },
        {
          "output_type": "stream",
          "name": "stdout",
          "text": [
            "Epoch 1/10\n",
            "174/174 [==============================] - 23s 121ms/step - loss: 0.6256 - accuracy: 0.6675 - val_loss: 0.5866 - val_accuracy: 0.6688\n",
            "Epoch 2/10\n",
            "174/174 [==============================] - 19s 111ms/step - loss: 0.4412 - accuracy: 0.7999 - val_loss: 0.5486 - val_accuracy: 0.7411\n",
            "Epoch 3/10\n",
            "174/174 [==============================] - 19s 111ms/step - loss: 0.2400 - accuracy: 0.9143 - val_loss: 0.7188 - val_accuracy: 0.7256\n",
            "Epoch 4/10\n",
            "174/174 [==============================] - 19s 109ms/step - loss: 0.1119 - accuracy: 0.9671 - val_loss: 1.0127 - val_accuracy: 0.7078\n",
            "Epoch 5/10\n",
            "174/174 [==============================] - 21s 118ms/step - loss: 0.0611 - accuracy: 0.9840 - val_loss: 1.1739 - val_accuracy: 0.7183\n",
            "Epoch 6/10\n",
            "174/174 [==============================] - 20s 117ms/step - loss: 0.0382 - accuracy: 0.9902 - val_loss: 1.3324 - val_accuracy: 0.6981\n",
            "Epoch 7/10\n",
            "174/174 [==============================] - 19s 111ms/step - loss: 0.0302 - accuracy: 0.9944 - val_loss: 1.4524 - val_accuracy: 0.7086\n",
            "Epoch 8/10\n",
            "174/174 [==============================] - 19s 110ms/step - loss: 0.0214 - accuracy: 0.9960 - val_loss: 1.6316 - val_accuracy: 0.6948\n",
            "Epoch 9/10\n",
            "174/174 [==============================] - 19s 111ms/step - loss: 0.0190 - accuracy: 0.9970 - val_loss: 1.7856 - val_accuracy: 0.7045\n",
            "Epoch 10/10\n",
            "174/174 [==============================] - 21s 123ms/step - loss: 0.0179 - accuracy: 0.9977 - val_loss: 1.9136 - val_accuracy: 0.7313\n",
            "27/27 [==============================] - 0s 11ms/step\n",
            "Accuracy of CNN: 0.7767441868782043\n",
            "F1 score of CNN: 0.5675675675675677\n",
            "Precision of CNN: 0.6176470588235294\n",
            "Recall of CNN: 0.525\n",
            "Confusion matrix of CNN:\n",
            "[[542  78]\n",
            " [114 126]]\n"
          ]
        }
      ]
    },
    {
      "cell_type": "markdown",
      "source": [
        "i use the code above for training and evaluating a Convolutional Neural Network (CNN) model to classify tweets into two categories: either being related to hate speech or not. I use the Keras API of TensorFlow library for building the model architecture, tokenizing and padding the tweet sequences, and fitting the model to the training data. I also uses scikit-learn library for encoding the labels and computing the evaluation metrics (accuracy, F1 score, precision, recall, and confusion matrix) on the test set. Finally i  predict the labels of the test set, which gives approxmately 0.77 accuracy.\n",
        "\n",
        "\n",
        "\n"
      ],
      "metadata": {
        "id": "xMmBEn5bnnLB"
      }
    },
    {
      "cell_type": "markdown",
      "source": [
        "**Using Long Short Term Memory(LSTM)**"
      ],
      "metadata": {
        "id": "42ff9GESph8H"
      }
    },
    {
      "cell_type": "code",
      "source": [
        "import pandas as pd\n",
        "import numpy as np\n",
        "import tensorflow as tf\n",
        "from tensorflow.keras.preprocessing.text import Tokenizer\n",
        "from tensorflow.keras.preprocessing.sequence import pad_sequences\n",
        "from tensorflow.keras.layers import Embedding, LSTM, Dense, Dropout\n",
        "from tensorflow.keras.models import Sequential\n",
        "\n",
        "# Load the data\n",
        "train_data = pd.read_csv('/content/gdrive/MyDrive/CE807/Assignment2/2204923/train.csv')\n",
        "test_lstm_data = pd.read_csv('/content/gdrive/MyDrive/CE807/Assignment2/2204923/test.csv')\n",
        "\n",
        "# Tokenize the text\n",
        "tokenizer = Tokenizer()\n",
        "tokenizer.fit_on_texts(train_data['tweet'])\n",
        "X_train = tokenizer.texts_to_sequences(train_data['tweet'])\n",
        "X_test = tokenizer.texts_to_sequences(test_data['tweet'])\n",
        "\n",
        "# Pad the sequences to have the same length\n",
        "max_len = 100\n",
        "X_train = pad_sequences(X_train, maxlen=max_len, padding='post', truncating='post')\n",
        "X_test = pad_sequences(X_test, maxlen=max_len, padding='post', truncating='post')\n",
        "\n",
        "# Define the LSTM model\n",
        "model = Sequential()\n",
        "model.add(Embedding(input_dim=len(tokenizer.word_index)+1, output_dim=100, input_length=max_len))\n",
        "model.add(LSTM(units=128, dropout=0.2, recurrent_dropout=0.2))\n",
        "model.add(Dense(units=64, activation='relu'))\n",
        "model.add(Dropout(0.5))\n",
        "model.add(Dense(units=1, activation='sigmoid'))\n",
        "\n",
        "# Compile the model\n",
        "model.compile(loss='binary_crossentropy', optimizer='adam', metrics=['accuracy'])\n",
        "\n",
        "from sklearn.preprocessing import LabelEncoder\n",
        "\n",
        "encoder = LabelEncoder()\n",
        "train_data['label'] = encoder.fit_transform(train_data['label'])\n",
        "test_lstm_data['label'] = encoder.transform(test_lstm_data['label'])\n",
        "\n",
        "# Train the model\n",
        "history = model.fit(X_train, train_data['label'], epochs=10, batch_size=64, validation_split=0.1)\n",
        "\n",
        "# Evaluate the model on the test set\n",
        "#loss, accuracy = model.evaluate(X_test, test_lstm_data['label'], verbose=0)\n",
        "\n",
        "# Evaluate the model on the test set\n",
        "y_lstm_pred = model.predict(X_test)\n",
        "y_lstm_pred = np.round(y_lstm_pred).astype(int)\n",
        "acc = model.evaluate(X_test, test_lstm_data['label'], verbose=0)[1]\n",
        "f1s = f1_score(test_lstm_data['label'], y_lstm_pred)\n",
        "precisions = precision_score(test_lstm_data['label'], y_lstm_pred)\n",
        "recalls = recall_score(test_lstm_data['label'], y_lstm_pred)\n",
        "cms = confusion_matrix(test_lstm_data['label'], y_lstm_pred)\n",
        "\n",
        "# Print the metrics\n",
        "print(\"Accuracy of LSTM:\", acc)\n",
        "print(\"F1 score of LSTM:\", f1s)\n",
        "print(\"Precision of LSTM:\", precision)\n",
        "print(\"Recall of LSTM:\", recalls)\n",
        "print(\"Confusion matrix of LSTM:\")\n",
        "print(cms)\n",
        "# Print the accuracy\n",
        "print(\"Accuracy of LSTM:\", acc)\n",
        "\n"
      ],
      "metadata": {
        "colab": {
          "base_uri": "https://localhost:8080/"
        },
        "id": "goA4Mt-ooib7",
        "outputId": "0e1e5954-4ac4-4585-f508-ff0b5f2758e7"
      },
      "execution_count": 54,
      "outputs": [
        {
          "output_type": "stream",
          "name": "stdout",
          "text": [
            "Epoch 1/10\n",
            "174/174 [==============================] - 95s 525ms/step - loss: 0.6450 - accuracy: 0.6650 - val_loss: 0.6367 - val_accuracy: 0.6672\n",
            "Epoch 2/10\n",
            "174/174 [==============================] - 84s 485ms/step - loss: 0.6396 - accuracy: 0.6677 - val_loss: 0.6390 - val_accuracy: 0.6672\n",
            "Epoch 3/10\n",
            "174/174 [==============================] - 85s 491ms/step - loss: 0.6385 - accuracy: 0.6677 - val_loss: 0.6369 - val_accuracy: 0.6672\n",
            "Epoch 4/10\n",
            "174/174 [==============================] - 90s 516ms/step - loss: 0.6390 - accuracy: 0.6677 - val_loss: 0.6383 - val_accuracy: 0.6672\n",
            "Epoch 5/10\n",
            "174/174 [==============================] - 86s 497ms/step - loss: 0.6379 - accuracy: 0.6678 - val_loss: 0.6365 - val_accuracy: 0.6672\n",
            "Epoch 6/10\n",
            "174/174 [==============================] - 86s 495ms/step - loss: 0.6389 - accuracy: 0.6678 - val_loss: 0.6360 - val_accuracy: 0.6672\n",
            "Epoch 7/10\n",
            "174/174 [==============================] - 88s 502ms/step - loss: 0.6377 - accuracy: 0.6678 - val_loss: 0.6362 - val_accuracy: 0.6672\n",
            "Epoch 8/10\n",
            "174/174 [==============================] - 85s 488ms/step - loss: 0.6370 - accuracy: 0.6679 - val_loss: 0.6361 - val_accuracy: 0.6672\n",
            "Epoch 9/10\n",
            "174/174 [==============================] - 84s 486ms/step - loss: 0.6390 - accuracy: 0.6679 - val_loss: 0.6360 - val_accuracy: 0.6672\n",
            "Epoch 10/10\n",
            "174/174 [==============================] - 86s 496ms/step - loss: 0.6370 - accuracy: 0.6679 - val_loss: 0.6360 - val_accuracy: 0.6672\n",
            "27/27 [==============================] - 1s 40ms/step\n",
            "Accuracy of LSTM: 0.7209302186965942\n",
            "F1 score of LSTM: 0.0\n",
            "Precision of LSTM: 0.6176470588235294\n",
            "Recall of LSTM: 0.0\n",
            "Confusion matrix of LSTM:\n",
            "[[620   0]\n",
            " [240   0]]\n",
            "Accuracy of LSTM: 0.7209302186965942\n"
          ]
        },
        {
          "output_type": "stream",
          "name": "stderr",
          "text": [
            "/usr/local/lib/python3.9/dist-packages/sklearn/metrics/_classification.py:1344: UndefinedMetricWarning: Precision is ill-defined and being set to 0.0 due to no predicted samples. Use `zero_division` parameter to control this behavior.\n",
            "  _warn_prf(average, modifier, msg_start, len(result))\n"
          ]
        }
      ]
    },
    {
      "cell_type": "markdown",
      "source": [
        "The code above implements a LSTM (Long Short-Term Memory) neural network model for text classification on tweets. The model is built using the Keras API of TensorFlow just as the CNN. I  first loads the training and test data from CSV files and tokenizes the text using the Tokenizer class. The sequences are then padded to have the same length.\n",
        "\n",
        "The LSTM model is defined with an Embedding layer, an LSTM layer with 128 units, a Dense layer with 64 units and a Dropout layer with a dropout rate of 0.5. The model is compiled with binary cross-entropy loss which compare each of the predicted probability to actual class output, 0 or 1 and the Adam optimizer to adjust the learning rate for each parameter.\n",
        "\n",
        "The training data labels are encoded using the LabelEncoder class from scikit-learn. The model is then trained on the training data using 10 epochs and a batch size of 64 with a 10% validation split. The model is evaluated on the test data and metrics such as accuracy is printed which gives 0.72 accuracy."
      ],
      "metadata": {
        "id": "oLqy1Tr8rKv9"
      }
    },
    {
      "cell_type": "markdown",
      "source": [
        "Getting all the model performance at a glance by building a function for easier explanation. we will get the prediction output of each of the model computed above to include in the function"
      ],
      "metadata": {
        "id": "KAaa0PMCvsxs"
      }
    },
    {
      "cell_type": "code",
      "source": [
        "from sklearn.metrics import accuracy_score, f1_score, confusion_matrix\n",
        "\n",
        "def compute_performance(y_true, y_pred, split='test'):\n",
        "    print('Computing different performance metrics on', split, 'set of Dataset')\n",
        "    \n",
        "    # Compute and print accuracy\n",
        "    acc = accuracy_score(y_true, y_pred)\n",
        "    print('Accuracy:', acc)\n",
        "    \n",
        "    # Compute and print recall, precision, f1-score (macro), and confusion matrix\n",
        "    labels = np.unique(y_true)\n",
        "    cm = confusion_matrix(y_true, y_pred, labels=labels)\n",
        "    recall = np.diag(cm) / np.sum(cm, axis=1)\n",
        "    precision = np.diag(cm) / np.sum(cm, axis=0)\n",
        "    f1 = 2 * precision * recall / (precision + recall)\n",
        "    f1_macro = np.mean(f1)\n",
        "    \n",
        "    print('Confusion matrix:')\n",
        "    print(cm)\n",
        "    print('Recall (macro):', np.mean(recall))\n",
        "    print('Precision (macro):', np.mean(precision))\n",
        "    print('F1 score (macro):', f1_macro)\n",
        "    print('')\n",
        "    \n",
        "print('performance metric for support vector machine:')\n",
        "compute_performance(y_test, y_pred_svm_ngrams, split='test')\n",
        "print('performance metric for Decision Tree Classifier:')\n",
        "compute_performance(y_dtc_test, y_pred_dtc_ngrams, split='test') \n",
        "print('performance metric for LSTM:')\n",
        "compute_performance(test_lstm_data['label'], y_lstm_pred, split='test') \n",
        "print('performance metric for CNN:') \n",
        "compute_performance(test_data['label'], y_pred, split='test') \n",
        "\n",
        "\n",
        "   \n"
      ],
      "metadata": {
        "colab": {
          "base_uri": "https://localhost:8080/"
        },
        "id": "njIYgs3hcHrc",
        "outputId": "269b0209-0467-425a-8724-497d3dc55a7a"
      },
      "execution_count": 55,
      "outputs": [
        {
          "output_type": "stream",
          "name": "stdout",
          "text": [
            "performance metric for support vector machine:\n",
            "Computing different performance metrics on test set of Dataset\n",
            "Accuracy: 0.7941860465116279\n",
            "Confusion matrix:\n",
            "[[567  53]\n",
            " [124 116]]\n",
            "Recall (macro): 0.6989247311827957\n",
            "Precision (macro): 0.7534702300927393\n",
            "F1 score (macro): 0.7161128610832919\n",
            "\n",
            "performance metric for Decision Tree Classifier:\n",
            "Computing different performance metrics on test set of Dataset\n",
            "Accuracy: 0.9987817753593763\n",
            "Confusion matrix:\n",
            "[[8221    0]\n",
            " [  15 4077]]\n",
            "Recall (macro): 0.9981671554252199\n",
            "Precision (macro): 0.9990893637688198\n",
            "F1 score (macro): 0.998626161846101\n",
            "\n",
            "performance metric for LSTM:\n",
            "Computing different performance metrics on test set of Dataset\n",
            "Accuracy: 0.7209302325581395\n",
            "Confusion matrix:\n",
            "[[620   0]\n",
            " [240   0]]\n",
            "Recall (macro): 0.5\n",
            "Precision (macro): nan\n",
            "F1 score (macro): nan\n",
            "\n",
            "performance metric for CNN:\n",
            "Computing different performance metrics on test set of Dataset\n",
            "Accuracy: 0.7767441860465116\n",
            "Confusion matrix:\n",
            "[[542  78]\n",
            " [114 126]]\n",
            "Recall (macro): 0.6995967741935484\n",
            "Precision (macro): 0.7219332855093257\n",
            "F1 score (macro): 0.7085486740659155\n",
            "\n"
          ]
        },
        {
          "output_type": "stream",
          "name": "stderr",
          "text": [
            "<ipython-input-55-0e049af5c42d>:14: RuntimeWarning: invalid value encountered in true_divide\n",
            "  precision = np.diag(cm) / np.sum(cm, axis=0)\n"
          ]
        }
      ]
    },
    {
      "cell_type": "markdown",
      "source": [
        "From the performance metrics output for diffrent model above, it clear that Decision tree gives the best accuracy performance but having a 99% accuracy doesn't mean it fit the training data perfection, it might mean there is a problem using the model. \n",
        "\n",
        "Using the LSTM model to fit the traing and test data gives 72% accuracy but precision, F1 score is not able to compute. Also, when i tried increasing the dataset by shuffling and randomly selecting the train data base on different sizes. The accuracy is still unchanges which means it does not fit the data well.\n",
        "\n",
        "Now using Support vector machine classifier, it gives a approximately 80% accuracy with f1 score of 0.72. SVM perform well in dataset that have high dimension feature space. It make text classification easier by eliminating the need for feature selection. SVM is also better in binary classification which make it suit this task  better.\n",
        "\n",
        "CNN, gives accuracy of approximately 0.77 with macro f1 score of 0.7. CNNs are particularly effective when working with text data that has a spatial structure, such as text data in the form of images, where the spatial arrangement of words within a sentence or document provides additional information that can be leveraged by the model. For example, CNNs have been shown to be effective in text classification tasks such as sentiment analysis, where the location of specific words or phrases within a sentence can be indicative of sentiment.\n",
        "\n",
        "In addition, CNNs can be beneficial when working with text data that has a large vocabulary, as they are able to learn high-level, abstract representations of the input data, which can be useful for generalizing to new, unseen text data. This make advantages make it suit the task better.\n",
        "\n",
        "In conclusion the selected model classiffier i will go for is the **Support Vector Machine and Convolusion Neural Network**"
      ],
      "metadata": {
        "id": "iukLYeB6rl20"
      }
    },
    {
      "cell_type": "code",
      "source": [
        "# Mount Google Drive\n",
        "from google.colab import drive\n",
        "drive.mount('/content/gdrive', force_remount=True)"
      ],
      "metadata": {
        "colab": {
          "base_uri": "https://localhost:8080/"
        },
        "id": "poV84q-XHyTs",
        "outputId": "d5f49af3-8435-4063-8ddb-0762878ad437"
      },
      "execution_count": 56,
      "outputs": [
        {
          "output_type": "stream",
          "name": "stdout",
          "text": [
            "Mounted at /content/gdrive\n"
          ]
        }
      ]
    },
    {
      "cell_type": "code",
      "source": [
        "# google drive path\n",
        "GOOGLE_DRIVE_PATH_AFTER_MYDRIVE = os.path.join('./CE807/Assignment2/',str(student_id)) \n",
        "GOOGLE_DRIVE_PATH = os.path.join('gdrive', 'MyDrive', GOOGLE_DRIVE_PATH_AFTER_MYDRIVE)\n",
        "print('List files: ', os.listdir(GOOGLE_DRIVE_PATH))\n"
      ],
      "metadata": {
        "colab": {
          "base_uri": "https://localhost:8080/"
        },
        "id": "5RbahR3gH_sE",
        "outputId": "4bbf665a-33df-427f-fff5-aabc16ef8276"
      },
      "execution_count": 57,
      "outputs": [
        {
          "output_type": "stream",
          "name": "stdout",
          "text": [
            "List files:  ['test.csv', 'valid.csv', 'train.csv', '.ipynb_checkpoints', 'train_25_sample.csv', 'train_50_sample.csv', 'train_75_sample.csv', 'cnn_model.pkl', 'cnn_predictions.csv', 'output.csv', 'cnn_model_frac_25.h5', 'cnn_model_frac_50.h5', 'output_cnn.csv', 'output_test_dtc.csv', 'svm_model.pkl', 'dtc_model.pkl', 'output_test_cnn.csv', 'cnn_model.h5', 'output_test_svm.csv', 'cnn_model_frac_60.h5', 'cnn_model_frac_75.h5', 'cnn_model_frac_85.h5', 'cnn_model_frac_100.h5', 'train_25pct.csv', 'train_75pct.csv', 'train_100pct.csv', 'train_50pct.csv', 'output_label_cnn_50.0.csv', 'output_label_cnn_100.0.csv', 'output_label_cnn_75.0.csv', 'output_label_cnn_25.0.csv', 'train_25pct_output_test_svm.csv', 'train_50pct_output_test_svm.csv', 'train_75pct_output_test_svm.csv', 'train_100pct_output_test_svm.csv', 'svm_model_0.6.pkl', 'svm_model_0.75.pkl', 'svm_model_0.85.pkl', 'svm_model_1.0.pkl', 'svm_predicted_labels.csv', 'cnn_predictions_label.csv']\n"
          ]
        }
      ]
    },
    {
      "cell_type": "code",
      "source": [
        "# set path for train, validation and test dataset\n",
        "\n",
        "val_file = os.path.join(GOOGLE_DRIVE_PATH, 'valid.csv')\n",
        "print('Validation file: ', val_file)\n",
        "\n",
        "test_file = os.path.join(GOOGLE_DRIVE_PATH, 'test.csv')\n",
        "print('Test file: ', test_file)"
      ],
      "metadata": {
        "colab": {
          "base_uri": "https://localhost:8080/"
        },
        "id": "rbE8pL5XL4Lc",
        "outputId": "eab34a51-f511-40c8-a1e4-b42feff2e854"
      },
      "execution_count": 58,
      "outputs": [
        {
          "output_type": "stream",
          "name": "stdout",
          "text": [
            "Validation file:  gdrive/MyDrive/./CE807/Assignment2/2204923/valid.csv\n",
            "Test file:  gdrive/MyDrive/./CE807/Assignment2/2204923/test.csv\n"
          ]
        }
      ]
    },
    {
      "cell_type": "markdown",
      "source": [
        "Model 1 directory"
      ],
      "metadata": {
        "id": "Jbb5s9sZWuAL"
      }
    },
    {
      "cell_type": "code",
      "source": [
        "MODEL_1_DIRECTORY = os.path.join(GOOGLE_DRIVE_PATH, 'svm_model.pkl', '1') # Model 1 directory\n",
        "print('Model 1 directory: ', MODEL_1_DIRECTORY)\n",
        "\n",
        "MODEL_1_25_DIRECTORY = os.path.join(MODEL_1_DIRECTORY,'25') # Model 1 trained using 25% of train data directory\n",
        "print('Model 1 directory with 25% data: ', MODEL_1_25_DIRECTORY)\n",
        "\n",
        "MODEL_1_50_DIRECTORY = os.path.join(MODEL_1_DIRECTORY,'50') # Model 1 trained using 50% of train data directory\n",
        "print('Model 1 directory with 50% data: ', MODEL_1_50_DIRECTORY)\n",
        "\n",
        "MODEL_1_75_DIRECTORY = os.path.join(MODEL_1_DIRECTORY,'75') # Model 1 trained using 75% of train data directory\n",
        "print('Model 1 directory with 75% data: ', MODEL_1_75_DIRECTORY)\n",
        "\n",
        "\n",
        "MODEL_1_100_DIRECTORY = os.path.join(MODEL_1_DIRECTORY,'100') # Model 1 trained using 100% of train data directory\n",
        "print('Model 1 directory with 100% data: ', MODEL_1_100_DIRECTORY)\n",
        "\n",
        "\n",
        "model_1_25_output_test_file = os.path.join(MODEL_1_25_DIRECTORY, 'train_25pct_output_test_svm.csv') # Output file using Model 1 trained using 25% of train data \n",
        "print('Output file name using model 1 using 25% of train data: ',model_1_25_output_test_file)\n",
        "\n",
        "model_1_50_output_test_file = os.path.join(MODEL_1_50_DIRECTORY, 'train_50pct_output_test_svm.csv') # Output file using Model 1 trained using 25% of train data \n",
        "print('Output file name using model 1 using 50% of train data: ',model_1_50_output_test_file)\n",
        "\n",
        "model_1_75_output_test_file = os.path.join(MODEL_1_75_DIRECTORY, 'train_75pct_output_test_svm.csv') # Output file using Model 1 trained using 25% of train data \n",
        "print('Output file name using model 1 using 25% of train data: ',model_1_75_output_test_file)\n",
        "\n",
        "model_1_100_output_test_file = os.path.join(MODEL_1_100_DIRECTORY, 'train_100pct_output_test_svm.csv') # Output file using Model 1 trained using 25% of train data \n",
        "print('Output file name using model 1 using 100% of train data: ',model_1_100_output_test_file)\n",
        "\n",
        "\n"
      ],
      "metadata": {
        "colab": {
          "base_uri": "https://localhost:8080/"
        },
        "id": "3egKulAhNNIe",
        "outputId": "da0fac0c-5b3e-49f2-dffb-6b872d806d16"
      },
      "execution_count": 59,
      "outputs": [
        {
          "output_type": "stream",
          "name": "stdout",
          "text": [
            "Model 1 directory:  gdrive/MyDrive/./CE807/Assignment2/2204923/svm_model.pkl/1\n",
            "Model 1 directory with 25% data:  gdrive/MyDrive/./CE807/Assignment2/2204923/svm_model.pkl/1/25\n",
            "Model 1 directory with 50% data:  gdrive/MyDrive/./CE807/Assignment2/2204923/svm_model.pkl/1/50\n",
            "Model 1 directory with 75% data:  gdrive/MyDrive/./CE807/Assignment2/2204923/svm_model.pkl/1/75\n",
            "Model 1 directory with 100% data:  gdrive/MyDrive/./CE807/Assignment2/2204923/svm_model.pkl/1/100\n",
            "Output file name using model 1 using 25% of train data:  gdrive/MyDrive/./CE807/Assignment2/2204923/svm_model.pkl/1/25/train_25pct_output_test_svm.csv\n",
            "Output file name using model 1 using 50% of train data:  gdrive/MyDrive/./CE807/Assignment2/2204923/svm_model.pkl/1/50/train_50pct_output_test_svm.csv\n",
            "Output file name using model 1 using 25% of train data:  gdrive/MyDrive/./CE807/Assignment2/2204923/svm_model.pkl/1/75/train_75pct_output_test_svm.csv\n",
            "Output file name using model 1 using 100% of train data:  gdrive/MyDrive/./CE807/Assignment2/2204923/svm_model.pkl/1/100/train_100pct_output_test_svm.csv\n"
          ]
        }
      ]
    },
    {
      "cell_type": "markdown",
      "source": [
        "Model 2 directory"
      ],
      "metadata": {
        "id": "O4xsdbavZ6lA"
      }
    },
    {
      "cell_type": "code",
      "source": [
        "MODEL_2_DIRECTORY = os.path.join(GOOGLE_DRIVE_PATH, 'cnn_model.h5', '1') # Model 2 directory\n",
        "print('Model 2 directory: ', MODEL_2_DIRECTORY)\n",
        "\n",
        "MODEL_2_25_DIRECTORY = os.path.join(MODEL_2_DIRECTORY,'25') # Model 2 trained using 25% of train data directory\n",
        "print('Model 2 directory with 25% data: ', MODEL_2_25_DIRECTORY)\n",
        "\n",
        "MODEL_2_50_DIRECTORY = os.path.join(MODEL_2_DIRECTORY,'50') # Model 2 trained using 50% of train data directory\n",
        "print('Model 2 directory with 50% data: ', MODEL_2_50_DIRECTORY)\n",
        "\n",
        "MODEL_2_75_DIRECTORY = os.path.join(MODEL_2_DIRECTORY,'75') # Model 2 trained using 75% of train data directory\n",
        "print('Model 2 directory with 75% data: ', MODEL_2_75_DIRECTORY)\n",
        "\n",
        "\n",
        "MODEL_2_100_DIRECTORY = os.path.join(MODEL_2_DIRECTORY,'100') # Model 2 trained using 100% of train data directory\n",
        "print('Model 2 directory with 100% data: ', MODEL_2_100_DIRECTORY)\n",
        "\n",
        "\n",
        "model_2_25_output_test_file = os.path.join(MODEL_2_25_DIRECTORY, 'output_label_cnn25.0.csv') # Output file using Model 2 trained using 25% of train data \n",
        "print('Output file name using model 2 using 25% of train data: ',model_2_25_output_test_file)\n",
        "\n",
        "model_2_50_output_test_file = os.path.join(MODEL_2_50_DIRECTORY, 'output_label_cnn50.0.csv') # Output file using Model 2 trained using 50% of train data \n",
        "print('Output file name using model 2 using 50% of train data: ',model_2_50_output_test_file)\n",
        "\n",
        "model_2_75_output_test_file = os.path.join(MODEL_2_75_DIRECTORY, 'output_label_cnn75.0.csv') # Output file using Model 2 trained using 25% of train data \n",
        "print('Output file name using model 2 using 25% of train data: ',model_2_75_output_test_file)\n",
        "\n",
        "model_2_100_output_test_file = os.path.join(MODEL_2_100_DIRECTORY, 'output_label_cnn100.0.csv') # Output file using Model 2 trained using 25% of train data \n",
        "print('Output file name using model 2 using 100% of train data: ',model_2_100_output_test_file)\n",
        "\n",
        "\n"
      ],
      "metadata": {
        "colab": {
          "base_uri": "https://localhost:8080/"
        },
        "id": "K-D5F-9pW1iK",
        "outputId": "d8a24049-acbe-48e1-a29f-8535b30c6ef8"
      },
      "execution_count": 60,
      "outputs": [
        {
          "output_type": "stream",
          "name": "stdout",
          "text": [
            "Model 2 directory:  gdrive/MyDrive/./CE807/Assignment2/2204923/cnn_model.h5/1\n",
            "Model 2 directory with 25% data:  gdrive/MyDrive/./CE807/Assignment2/2204923/cnn_model.h5/1/25\n",
            "Model 2 directory with 50% data:  gdrive/MyDrive/./CE807/Assignment2/2204923/cnn_model.h5/1/50\n",
            "Model 2 directory with 75% data:  gdrive/MyDrive/./CE807/Assignment2/2204923/cnn_model.h5/1/75\n",
            "Model 2 directory with 100% data:  gdrive/MyDrive/./CE807/Assignment2/2204923/cnn_model.h5/1/100\n",
            "Output file name using model 2 using 25% of train data:  gdrive/MyDrive/./CE807/Assignment2/2204923/cnn_model.h5/1/25/output_label_cnn25.0.csv\n",
            "Output file name using model 2 using 50% of train data:  gdrive/MyDrive/./CE807/Assignment2/2204923/cnn_model.h5/1/50/output_label_cnn50.0.csv\n",
            "Output file name using model 2 using 25% of train data:  gdrive/MyDrive/./CE807/Assignment2/2204923/cnn_model.h5/1/75/output_label_cnn75.0.csv\n",
            "Output file name using model 2 using 100% of train data:  gdrive/MyDrive/./CE807/Assignment2/2204923/cnn_model.h5/1/100/output_label_cnn100.0.csv\n"
          ]
        }
      ]
    },
    {
      "cell_type": "markdown",
      "source": [
        "**TASK 2**\n",
        "**Method 1, training with support vector machine**"
      ],
      "metadata": {
        "id": "-oMkqmbYMHwj"
      }
    },
    {
      "cell_type": "code",
      "source": [
        "import pandas as pd\n",
        "from sklearn.feature_extraction.text import CountVectorizer\n",
        "from sklearn.svm import SVC\n",
        "from sklearn.metrics import f1_score, precision_score, recall_score, confusion_matrix\n",
        "import numpy as np\n",
        "import joblib\n",
        "\n",
        "# Define the function for loading the data\n",
        "def load_data(file_path):\n",
        "    data = pd.read_csv('/content/gdrive/MyDrive/CE807/Assignment2/2204923/train.csv')\n",
        "    X = data['tweet'].values\n",
        "    y = data['label'].values\n",
        "    return X, y\n",
        "\n",
        "# Define the function for extracting handcrafted features from the text\n",
        "def extract_handcrafted_features(texts):\n",
        "    features = []\n",
        "    for text in texts:\n",
        "        # Extract handcrafted features such as character n-grams, punctuation marks, capitalization, etc.\n",
        "        # Append the features to the list\n",
        "        features.append([len(text), len(text.split()), len(text.splitlines())])\n",
        "    return np.array(features)\n",
        "\n",
        "# Load the training, validation, and test data\n",
        "X_train_full, y_train_full = load_data('train.csv')\n",
        "X_val, y_val = load_data('valid.csv')\n",
        "X_test, y_test = load_data('test.csv')\n",
        "\n",
        "# Split the training data into four subsets with different sizes (60%,  75%, 85% and 100%)\n",
        "train_sizes = [0.6, 0.75, 0.85, 1.0]\n",
        "for size in train_sizes:\n",
        "    # Select a random subset of the training data with the specified size\n",
        "    X_train, y_train = load_data('train.csv')\n",
        "    indices = np.random.choice(len(X_train), int(len(X_train) * size), replace=False)\n",
        "    X_train = X_train[indices]\n",
        "    y_train = y_train[indices]\n",
        "\n",
        "    # Represent the text using word n-grams\n",
        "    vectorizer = CountVectorizer(ngram_range=(1,3), stop_words='english')\n",
        "    X_train_ngrams = vectorizer.fit_transform(X_train)\n",
        "    X_val_ngrams = vectorizer.transform(X_val)\n",
        "\n",
        "    # Train the SVM model with word n-grams\n",
        "    svm_model = SVC()\n",
        "    svm_model.fit(X_train_ngrams, y_train)\n",
        "\n",
        "    # Save the model to a file\n",
        "    joblib.dump(svm_model, f'/content/gdrive/MyDrive/CE807/Assignment2/2204923/svm_model_{size}.pkl')\n",
        "\n",
        "    # Evaluate the SVM model on the validation set with word n-grams\n",
        "    y_pred_svm_ngrams = svm_model.predict(X_val_ngrams)\n",
        "    accuracy_svm_ngrams = svm_model.score(X_val_ngrams, y_val)\n",
        "\n",
        "    # Compute the evaluation metrics\n",
        "    print(f\"SVM with {size*100}% of training data:\")\n",
        "    print(\"F1 score:\", f1_score(y_val, y_pred_svm_ngrams, average='binary', pos_label='OFF'))\n",
        "    print(\"Precision:\", precision_score(y_val, y_pred_svm_ngrams, average='binary', pos_label='OFF'))\n",
        "    print(\"Recall:\", recall_score(y_val, y_pred_svm_ngrams, average='binary', pos_label='OFF'))\n",
        "    print(\"Macro F1 score:\", f1_score(y_val, y_pred_svm_ngrams, average='macro'))\n",
        "    print(\"Confusion matrix:\\n\", confusion_matrix(y_val, y_pred_svm_ngrams))\n",
        "    print(f\"Accuracy of SVM with {size*100}% of training data:\", accuracy_svm_ngrams)\n",
        "    print('')"
      ],
      "metadata": {
        "colab": {
          "base_uri": "https://localhost:8080/"
        },
        "id": "r7n6ffuIIuXt",
        "outputId": "b31bc131-03a6-4d8b-edcc-5da97cc12307"
      },
      "execution_count": 61,
      "outputs": [
        {
          "output_type": "stream",
          "name": "stdout",
          "text": [
            "SVM with 60.0% of training data:\n",
            "F1 score: 0.3318494536624848\n",
            "Precision: 0.9647058823529412\n",
            "Recall: 0.20039100684261973\n",
            "Macro F1 score: 0.5820494982191717\n",
            "Confusion matrix:\n",
            " [[8191   30]\n",
            " [3272  820]]\n",
            "Accuracy of SVM with 60.0% of training data: 0.731828149110696\n",
            "\n",
            "SVM with 75.0% of training data:\n",
            "F1 score: 0.40015509887553313\n",
            "Precision: 0.9681050656660413\n",
            "Recall: 0.25219941348973607\n",
            "Macro F1 score: 0.6206138140771749\n",
            "Confusion matrix:\n",
            " [[8187   34]\n",
            " [3060 1032]]\n",
            "Accuracy of SVM with 75.0% of training data: 0.7487208641273451\n",
            "\n",
            "SVM with 85.0% of training data:\n",
            "F1 score: 0.46079344384429133\n",
            "Precision: 0.9686765857478465\n",
            "Recall: 0.302297165200391\n",
            "Macro F1 score: 0.6552292503533654\n",
            "Confusion matrix:\n",
            " [[8181   40]\n",
            " [2855 1237]]\n",
            "Accuracy of SVM with 85.0% of training data: 0.76488264435962\n",
            "\n",
            "SVM with 100.0% of training data:\n",
            "F1 score: 0.5002718868950515\n",
            "Precision: 0.968421052631579\n",
            "Recall: 0.33724340175953077\n",
            "Macro F1 score: 0.6779971606750101\n",
            "Confusion matrix:\n",
            " [[8176   45]\n",
            " [2712 1380]]\n",
            "Accuracy of SVM with 100.0% of training data: 0.7760903110533582\n",
            "\n"
          ]
        }
      ]
    },
    {
      "cell_type": "markdown",
      "source": [
        "The executed code consists of functions for training and evaluating a Support Vector Machine (SVM) model on a text classification task. The task involves classifying tweets as either offensive or non-offensive. The code uses the scikit-learn library for machine learning and pandas library for data manipulation.\n",
        "\n",
        "The load_data function reads in the training data from a CSV file and returns the tweet texts and their corresponding labels as NumPy arrays. The extract_handcrafted_features function extracts several handcrafted features from the text, such as character n-grams, punctuation marks, and capitalization, and returns them as a NumPy array.\n",
        "\n",
        "The training, validation, and test data are loaded using the load_data function. The training data is then split into four random subsets with different sizes using the train_sizes list. For each subset, a random sample subset of the training data with the specified size is selected. The text is represented using word n-grams using the CountVectorizer from scikit-learn. The SVM model is then trained on the training data with word n-grams using the SVM from scikit-learn. The trained model is saved to a file using the joblib library. The SVM model is evaluated on the validation set with word n-grams using several evaluation metrics, including F1 score, precision, recall, macro F1 score, and confusion matrix. Firstly, we take 60% of the training dataset which give accuracy of 0.73 and then increase the sample by 15% which make it 75% of the training dataset, give an accuracy of 0.75 and the with another increment of 15% gives an accuracy of 0.76 and then proceed by training the whole dataset which give an accuracy of 0.78 approximately.\n",
        "\n",
        "The code uses a standard machine learning pipeline to train and evaluate an SVM model on a text classification task. It also provides a simple way to experiment with different training set sizes and evaluate the impact on the model's performance. \n",
        "\n"
      ],
      "metadata": {
        "id": "TW8dZx87n11p"
      }
    },
    {
      "cell_type": "markdown",
      "source": [
        "Another way to ramdomly generate the sample size is shown in the code below. This allows a function to be built in order to get the performace metrics of each sample differently."
      ],
      "metadata": {
        "id": "IB4qXZny8a88"
      }
    },
    {
      "cell_type": "code",
      "source": [
        "import pandas as pd\n",
        "\n",
        "# load the train.csv file into a pandas dataframe\n",
        "df = pd.read_csv('/content/gdrive/MyDrive/CE807/Assignment2/2204923/train.csv')\n",
        "\n",
        "# take a random sample of 60% of the dataframe\n",
        "sample_60_df = df.sample(frac=0.6, random_state=42)\n",
        "\n",
        "# take a random sample of 75% of the dataframe\n",
        "sample_75_df = df.sample(frac=0.75, random_state=42)\n",
        "\n",
        "# take a random sample of 85% of the dataframe\n",
        "sample_85_df = df.sample(frac=0.85, random_state=42)\n",
        "\n",
        "\n",
        "# save the sample as a new csv files\n",
        "sample_60_df.to_csv('train_60_sample.csv', index=False)\n",
        "sample_75_df.to_csv('train_75_sample.csv', index=False)\n",
        "sample_85_df.to_csv('train_85_sample.csv', index=False)\n",
        "\n",
        "train_100_df = os.path.join(GOOGLE_DRIVE_PATH, 'train.csv') # This is 100% of data\n",
        "train_60_df = os.path.join(GOOGLE_DRIVE_PATH, 'train_60_sample.csv') #Let's assume that you have train 25% file is saved in train_25pct.csv. Note that this is a dummy file. You have to create your own file.\n",
        "train_75_df = os.path.join(GOOGLE_DRIVE_PATH, 'train_75_sample.csv') #Let's assume that you have train 50% file is saved in train_25pct.csv. Note that this is a dummy file. You have to create your own file.\n",
        "train_85_df = os.path.join(GOOGLE_DRIVE_PATH, 'train_85_sample.csv') #Let's assume that you have train 75% file is saved in train_25pct.csv. Note that this is a dummy file. You have to create your own file.\n",
        "\n",
        "\n",
        "print('Train 100% data: ', train_100_df)\n",
        "print('Train 60% data: ', train_60_df)\n",
        "print('Train 75% data: ', train_75_df)\n",
        "print('Train 85% data: ', train_85_df)\n"
      ],
      "metadata": {
        "colab": {
          "base_uri": "https://localhost:8080/"
        },
        "id": "krYBJlvt8JWa",
        "outputId": "04cc652a-823c-4947-c838-a40cbb532aa9"
      },
      "execution_count": 62,
      "outputs": [
        {
          "output_type": "stream",
          "name": "stdout",
          "text": [
            "Train 100% data:  gdrive/MyDrive/./CE807/Assignment2/2204923/train.csv\n",
            "Train 60% data:  gdrive/MyDrive/./CE807/Assignment2/2204923/train_60_sample.csv\n",
            "Train 75% data:  gdrive/MyDrive/./CE807/Assignment2/2204923/train_75_sample.csv\n",
            "Train 85% data:  gdrive/MyDrive/./CE807/Assignment2/2204923/train_85_sample.csv\n"
          ]
        }
      ]
    },
    {
      "cell_type": "markdown",
      "source": [
        "Load and test the model on test dataset"
      ],
      "metadata": {
        "id": "7_ySIlDuolgk"
      }
    },
    {
      "cell_type": "code",
      "source": [
        "def svm_model(model_file_path, test_file_path, predicted_labels_file_path):\n",
        "    # Load the SVM model from a file\n",
        "    svm_model = joblib.load(model_file_path)\n",
        "\n",
        "    # Load the test data\n",
        "    X_test, y_test = load_data(test_file_path)\n",
        "\n",
        "    # Represent the text using word n-grams\n",
        "    vectorizer = CountVectorizer(ngram_range=(1,3), stop_words='english')\n",
        "    X_test_ngrams = vectorizer.fit_transform(X_test)\n",
        "\n",
        "    # Use the SVM model to predict the labels of the test data\n",
        "    y_pred_svm_ngrams = svm_model.predict(X_test_ngrams)\n",
        "\n",
        "    # Save the predicted labels to a file\n",
        "    with open(predicted_labels_file_path, 'w') as f:\n",
        "        f.write(' '.join(map(str, y_pred_svm_ngrams)))\n",
        "\n",
        "    # Compute the evaluation metrics\n",
        "    print(\"SVM test results:\")\n",
        "    print(\"F1 score:\", f1_score(y_test, y_pred_svm_ngrams, average='binary', pos_label='OFF'))\n",
        "    print(\"Precision:\", precision_score(y_test, y_pred_svm_ngrams, average='binary', pos_label='OFF'))\n",
        "    print(\"Recall:\", recall_score(y_test, y_pred_svm_ngrams, average='binary', pos_label='OFF'))\n",
        "    print(\"Macro F1 score:\", f1_score(y_test, y_pred_svm_ngrams, average='macro'))\n",
        "    print(\"Confusion matrix:\\n\", confusion_matrix(y_test, y_pred_svm_ngrams))\n",
        "    print(\"Accuracy:\", accuracy_score(y_test, y_pred_svm_ngrams))\n",
        "    \n",
        "# Call the function\n",
        "svm_model('/content/gdrive/MyDrive/CE807/Assignment2/2204923/svm_model.pkl', \n",
        "          '/content/gdrive/MyDrive/CE807/Assignment2/2204923/test.csv', \n",
        "          '/content/gdrive/MyDrive/CE807/Assignment2/2204923/svm_predicted_labels.csv')\n"
      ],
      "metadata": {
        "id": "0lz8ILSRre1V",
        "colab": {
          "base_uri": "https://localhost:8080/"
        },
        "outputId": "6e223d25-6419-4c0b-a61d-77a24c1fbaac"
      },
      "execution_count": 63,
      "outputs": [
        {
          "output_type": "stream",
          "name": "stdout",
          "text": [
            "SVM test results:\n",
            "F1 score: 0.9950992403822593\n",
            "Precision: 0.9977886977886978\n",
            "Recall: 0.9924242424242424\n",
            "Macro F1 score: 0.9963348485681948\n",
            "Confusion matrix:\n",
            " [[8212    9]\n",
            " [  31 4061]]\n",
            "Accuracy: 0.9967514009583367\n"
          ]
        }
      ]
    },
    {
      "cell_type": "markdown",
      "source": [
        "The above code define Svm function that take the parameter of svm model path, test dataset and prediction label directory which give the prediction outcome label."
      ],
      "metadata": {
        "id": "BjPvGUn345BR"
      }
    },
    {
      "cell_type": "code",
      "source": [
        "# print the svm test dataset with the output label \n",
        "df_svm = pd.read_csv('/content/gdrive/MyDrive/CE807/Assignment2/2204923/test.csv')\n",
        "out_svm = pd.DataFrame( y_pred_svm_ngrams, columns=['Output_label'])\n",
        "df_svm['Output_label'] = out_svm\n",
        "print(df_svm)\n"
      ],
      "metadata": {
        "colab": {
          "base_uri": "https://localhost:8080/"
        },
        "id": "0pzGokXD8rxT",
        "outputId": "5a2f9218-49c4-4b05-9f4c-ef280db8afb7"
      },
      "execution_count": 64,
      "outputs": [
        {
          "output_type": "stream",
          "name": "stdout",
          "text": [
            "        id                                              tweet label  \\\n",
            "0    15923  #WhoIsQ #WheresTheServer #DumpNike #DECLASFISA...   OFF   \n",
            "1    27014  #ConstitutionDay is revered by Conservatives, ...   NOT   \n",
            "2    30530  #FOXNews #NRA #MAGA #POTUS #TRUMP #2ndAmendmen...   NOT   \n",
            "3    13876  #Watching #Boomer getting the news that she is...   NOT   \n",
            "4    60133  #NoPasaran: Unity demo to oppose the far-right...   OFF   \n",
            "..     ...                                                ...   ...   \n",
            "855  73439  #DespicableDems lie again about rifles. Dem Di...   OFF   \n",
            "856  25657  #MeetTheSpeakers 🙌 @USER will present in our e...   NOT   \n",
            "857  67018  3 people just unfollowed me for talking about ...   OFF   \n",
            "858  50665  #WednesdayWisdom Antifa calls the right fascis...   NOT   \n",
            "859  24583      #Kavanaugh typical #liberals , #Democrats URL   NOT   \n",
            "\n",
            "    Output_label  \n",
            "0            NOT  \n",
            "1            NOT  \n",
            "2            NOT  \n",
            "3            NOT  \n",
            "4            OFF  \n",
            "..           ...  \n",
            "855          OFF  \n",
            "856          NOT  \n",
            "857          NOT  \n",
            "858          OFF  \n",
            "859          NOT  \n",
            "\n",
            "[860 rows x 4 columns]\n"
          ]
        }
      ]
    },
    {
      "cell_type": "code",
      "source": [
        "df_svm\n",
        "df_svm.to_csv('/content/gdrive/MyDrive/CE807/Assignment2/2204923/output_test_svm.csv', index=False)\n",
        "df_svm"
      ],
      "metadata": {
        "colab": {
          "base_uri": "https://localhost:8080/",
          "height": 424
        },
        "id": "Uv0N4UOc-zRg",
        "outputId": "621b58f9-4a05-497a-f35a-332caf123ebb"
      },
      "execution_count": 65,
      "outputs": [
        {
          "output_type": "execute_result",
          "data": {
            "text/plain": [
              "        id                                              tweet label  \\\n",
              "0    15923  #WhoIsQ #WheresTheServer #DumpNike #DECLASFISA...   OFF   \n",
              "1    27014  #ConstitutionDay is revered by Conservatives, ...   NOT   \n",
              "2    30530  #FOXNews #NRA #MAGA #POTUS #TRUMP #2ndAmendmen...   NOT   \n",
              "3    13876  #Watching #Boomer getting the news that she is...   NOT   \n",
              "4    60133  #NoPasaran: Unity demo to oppose the far-right...   OFF   \n",
              "..     ...                                                ...   ...   \n",
              "855  73439  #DespicableDems lie again about rifles. Dem Di...   OFF   \n",
              "856  25657  #MeetTheSpeakers 🙌 @USER will present in our e...   NOT   \n",
              "857  67018  3 people just unfollowed me for talking about ...   OFF   \n",
              "858  50665  #WednesdayWisdom Antifa calls the right fascis...   NOT   \n",
              "859  24583      #Kavanaugh typical #liberals , #Democrats URL   NOT   \n",
              "\n",
              "    Output_label  \n",
              "0            NOT  \n",
              "1            NOT  \n",
              "2            NOT  \n",
              "3            NOT  \n",
              "4            OFF  \n",
              "..           ...  \n",
              "855          OFF  \n",
              "856          NOT  \n",
              "857          NOT  \n",
              "858          OFF  \n",
              "859          NOT  \n",
              "\n",
              "[860 rows x 4 columns]"
            ],
            "text/html": [
              "\n",
              "  <div id=\"df-1da9ccd5-e32b-4c23-9332-71277a6bc278\">\n",
              "    <div class=\"colab-df-container\">\n",
              "      <div>\n",
              "<style scoped>\n",
              "    .dataframe tbody tr th:only-of-type {\n",
              "        vertical-align: middle;\n",
              "    }\n",
              "\n",
              "    .dataframe tbody tr th {\n",
              "        vertical-align: top;\n",
              "    }\n",
              "\n",
              "    .dataframe thead th {\n",
              "        text-align: right;\n",
              "    }\n",
              "</style>\n",
              "<table border=\"1\" class=\"dataframe\">\n",
              "  <thead>\n",
              "    <tr style=\"text-align: right;\">\n",
              "      <th></th>\n",
              "      <th>id</th>\n",
              "      <th>tweet</th>\n",
              "      <th>label</th>\n",
              "      <th>Output_label</th>\n",
              "    </tr>\n",
              "  </thead>\n",
              "  <tbody>\n",
              "    <tr>\n",
              "      <th>0</th>\n",
              "      <td>15923</td>\n",
              "      <td>#WhoIsQ #WheresTheServer #DumpNike #DECLASFISA...</td>\n",
              "      <td>OFF</td>\n",
              "      <td>NOT</td>\n",
              "    </tr>\n",
              "    <tr>\n",
              "      <th>1</th>\n",
              "      <td>27014</td>\n",
              "      <td>#ConstitutionDay is revered by Conservatives, ...</td>\n",
              "      <td>NOT</td>\n",
              "      <td>NOT</td>\n",
              "    </tr>\n",
              "    <tr>\n",
              "      <th>2</th>\n",
              "      <td>30530</td>\n",
              "      <td>#FOXNews #NRA #MAGA #POTUS #TRUMP #2ndAmendmen...</td>\n",
              "      <td>NOT</td>\n",
              "      <td>NOT</td>\n",
              "    </tr>\n",
              "    <tr>\n",
              "      <th>3</th>\n",
              "      <td>13876</td>\n",
              "      <td>#Watching #Boomer getting the news that she is...</td>\n",
              "      <td>NOT</td>\n",
              "      <td>NOT</td>\n",
              "    </tr>\n",
              "    <tr>\n",
              "      <th>4</th>\n",
              "      <td>60133</td>\n",
              "      <td>#NoPasaran: Unity demo to oppose the far-right...</td>\n",
              "      <td>OFF</td>\n",
              "      <td>OFF</td>\n",
              "    </tr>\n",
              "    <tr>\n",
              "      <th>...</th>\n",
              "      <td>...</td>\n",
              "      <td>...</td>\n",
              "      <td>...</td>\n",
              "      <td>...</td>\n",
              "    </tr>\n",
              "    <tr>\n",
              "      <th>855</th>\n",
              "      <td>73439</td>\n",
              "      <td>#DespicableDems lie again about rifles. Dem Di...</td>\n",
              "      <td>OFF</td>\n",
              "      <td>OFF</td>\n",
              "    </tr>\n",
              "    <tr>\n",
              "      <th>856</th>\n",
              "      <td>25657</td>\n",
              "      <td>#MeetTheSpeakers 🙌 @USER will present in our e...</td>\n",
              "      <td>NOT</td>\n",
              "      <td>NOT</td>\n",
              "    </tr>\n",
              "    <tr>\n",
              "      <th>857</th>\n",
              "      <td>67018</td>\n",
              "      <td>3 people just unfollowed me for talking about ...</td>\n",
              "      <td>OFF</td>\n",
              "      <td>NOT</td>\n",
              "    </tr>\n",
              "    <tr>\n",
              "      <th>858</th>\n",
              "      <td>50665</td>\n",
              "      <td>#WednesdayWisdom Antifa calls the right fascis...</td>\n",
              "      <td>NOT</td>\n",
              "      <td>OFF</td>\n",
              "    </tr>\n",
              "    <tr>\n",
              "      <th>859</th>\n",
              "      <td>24583</td>\n",
              "      <td>#Kavanaugh typical #liberals , #Democrats URL</td>\n",
              "      <td>NOT</td>\n",
              "      <td>NOT</td>\n",
              "    </tr>\n",
              "  </tbody>\n",
              "</table>\n",
              "<p>860 rows × 4 columns</p>\n",
              "</div>\n",
              "      <button class=\"colab-df-convert\" onclick=\"convertToInteractive('df-1da9ccd5-e32b-4c23-9332-71277a6bc278')\"\n",
              "              title=\"Convert this dataframe to an interactive table.\"\n",
              "              style=\"display:none;\">\n",
              "        \n",
              "  <svg xmlns=\"http://www.w3.org/2000/svg\" height=\"24px\"viewBox=\"0 0 24 24\"\n",
              "       width=\"24px\">\n",
              "    <path d=\"M0 0h24v24H0V0z\" fill=\"none\"/>\n",
              "    <path d=\"M18.56 5.44l.94 2.06.94-2.06 2.06-.94-2.06-.94-.94-2.06-.94 2.06-2.06.94zm-11 1L8.5 8.5l.94-2.06 2.06-.94-2.06-.94L8.5 2.5l-.94 2.06-2.06.94zm10 10l.94 2.06.94-2.06 2.06-.94-2.06-.94-.94-2.06-.94 2.06-2.06.94z\"/><path d=\"M17.41 7.96l-1.37-1.37c-.4-.4-.92-.59-1.43-.59-.52 0-1.04.2-1.43.59L10.3 9.45l-7.72 7.72c-.78.78-.78 2.05 0 2.83L4 21.41c.39.39.9.59 1.41.59.51 0 1.02-.2 1.41-.59l7.78-7.78 2.81-2.81c.8-.78.8-2.07 0-2.86zM5.41 20L4 18.59l7.72-7.72 1.47 1.35L5.41 20z\"/>\n",
              "  </svg>\n",
              "      </button>\n",
              "      \n",
              "  <style>\n",
              "    .colab-df-container {\n",
              "      display:flex;\n",
              "      flex-wrap:wrap;\n",
              "      gap: 12px;\n",
              "    }\n",
              "\n",
              "    .colab-df-convert {\n",
              "      background-color: #E8F0FE;\n",
              "      border: none;\n",
              "      border-radius: 50%;\n",
              "      cursor: pointer;\n",
              "      display: none;\n",
              "      fill: #1967D2;\n",
              "      height: 32px;\n",
              "      padding: 0 0 0 0;\n",
              "      width: 32px;\n",
              "    }\n",
              "\n",
              "    .colab-df-convert:hover {\n",
              "      background-color: #E2EBFA;\n",
              "      box-shadow: 0px 1px 2px rgba(60, 64, 67, 0.3), 0px 1px 3px 1px rgba(60, 64, 67, 0.15);\n",
              "      fill: #174EA6;\n",
              "    }\n",
              "\n",
              "    [theme=dark] .colab-df-convert {\n",
              "      background-color: #3B4455;\n",
              "      fill: #D2E3FC;\n",
              "    }\n",
              "\n",
              "    [theme=dark] .colab-df-convert:hover {\n",
              "      background-color: #434B5C;\n",
              "      box-shadow: 0px 1px 3px 1px rgba(0, 0, 0, 0.15);\n",
              "      filter: drop-shadow(0px 1px 2px rgba(0, 0, 0, 0.3));\n",
              "      fill: #FFFFFF;\n",
              "    }\n",
              "  </style>\n",
              "\n",
              "      <script>\n",
              "        const buttonEl =\n",
              "          document.querySelector('#df-1da9ccd5-e32b-4c23-9332-71277a6bc278 button.colab-df-convert');\n",
              "        buttonEl.style.display =\n",
              "          google.colab.kernel.accessAllowed ? 'block' : 'none';\n",
              "\n",
              "        async function convertToInteractive(key) {\n",
              "          const element = document.querySelector('#df-1da9ccd5-e32b-4c23-9332-71277a6bc278');\n",
              "          const dataTable =\n",
              "            await google.colab.kernel.invokeFunction('convertToInteractive',\n",
              "                                                     [key], {});\n",
              "          if (!dataTable) return;\n",
              "\n",
              "          const docLinkHtml = 'Like what you see? Visit the ' +\n",
              "            '<a target=\"_blank\" href=https://colab.research.google.com/notebooks/data_table.ipynb>data table notebook</a>'\n",
              "            + ' to learn more about interactive tables.';\n",
              "          element.innerHTML = '';\n",
              "          dataTable['output_type'] = 'display_data';\n",
              "          await google.colab.output.renderOutput(dataTable, element);\n",
              "          const docLink = document.createElement('div');\n",
              "          docLink.innerHTML = docLinkHtml;\n",
              "          element.appendChild(docLink);\n",
              "        }\n",
              "      </script>\n",
              "    </div>\n",
              "  </div>\n",
              "  "
            ]
          },
          "metadata": {},
          "execution_count": 65
        }
      ]
    },
    {
      "cell_type": "markdown",
      "source": [
        "model 2, CNN model"
      ],
      "metadata": {
        "id": "85AC2pikcEPF"
      }
    },
    {
      "cell_type": "code",
      "source": [
        "import pandas as pd\n",
        "import numpy as np\n",
        "import tensorflow as tf\n",
        "from tensorflow.keras.preprocessing.text import Tokenizer\n",
        "from tensorflow.keras.preprocessing.sequence import pad_sequences\n",
        "from tensorflow.keras.layers import Embedding, Conv1D, MaxPooling1D, Flatten, Dense, Dropout\n",
        "from tensorflow.keras.models import Sequential\n",
        "from sklearn.preprocessing import LabelEncoder\n",
        "from sklearn.metrics import classification_report, confusion_matrix\n",
        "import nltk\n",
        "nltk.download(\"stopwords\")\n",
        "from nltk.corpus import stopwords\n",
        "\n",
        "# Load the stop words\n",
        "stop_words = set(stopwords.words('english'))\n",
        "\n",
        "\n",
        "# Load the data\n",
        "train_data = pd.read_csv('/content/gdrive/MyDrive/CE807/Assignment2/2204923/train.csv')\n",
        "test_data = pd.read_csv('/content/gdrive/MyDrive/CE807/Assignment2/2204923/test.csv')\n",
        "valid_data = pd.read_csv('/content/gdrive/MyDrive/CE807/Assignment2/2204923/valid.csv')\n",
        "\n",
        "# Shuffle the data\n",
        "train_data = train_data.sample(frac=1).reset_index(drop=True)\n",
        "\n",
        "# Tokenize the text and remove stop words\n",
        "tokenizer = Tokenizer()\n",
        "tokenizer.fit_on_texts(train_data['tweet'])\n",
        "X_train = tokenizer.texts_to_sequences(train_data['tweet'])\n",
        "X_train = [[word for word in seq if word not in stop_words] for seq in X_train]\n",
        "X_test = tokenizer.texts_to_sequences(test_data['tweet'])\n",
        "X_test = [[word for word in seq if word not in stop_words] for seq in X_test]\n",
        "X_valid = tokenizer.texts_to_sequences(valid_data['tweet'])\n",
        "X_valid = [[word for word in seq if word not in stop_words] for seq in X_valid]\n",
        "\n",
        "# Pad the sequences to have the same length\n",
        "max_len = 100\n",
        "X_train = pad_sequences(X_train, maxlen=max_len, padding='post', truncating='post')\n",
        "X_test = pad_sequences(X_test, maxlen=max_len, padding='post', truncating='post')\n",
        "X_valid = pad_sequences(X_valid, maxlen=max_len, padding='post', truncating='post')\n",
        "\n",
        "# Encode the labels\n",
        "encoder = LabelEncoder()\n",
        "train_data['label'] = encoder.fit_transform(train_data['label'])\n",
        "test_data['label'] = encoder.transform(test_data['label'])\n",
        "valid_data['label'] = encoder.transform(valid_data['label'])\n",
        "\n",
        "# Train the model\n",
        "history_list = []\n",
        "for i, frac in enumerate([0.60, 0.75, 0.85, 1.0]):\n",
        "    print(\"Training on\", frac*100, \"% of the data\")\n",
        "    # Select a fraction of the training data\n",
        "    train_frac = train_data.sample(frac=frac)\n",
        "    X_train_frac = tokenizer.texts_to_sequences(train_frac['tweet'])\n",
        "    X_train_frac = pad_sequences(X_train_frac, maxlen=max_len, padding='post', truncating='post')\n",
        "    y_train_frac = train_frac['label']\n",
        "\n",
        "    # Define the CNN model\n",
        "    model = Sequential()\n",
        "    model.add(Embedding(input_dim=len(tokenizer.word_index)+1, output_dim=100, input_length=max_len))\n",
        "    model.add(Conv1D(filters=128, kernel_size=5, activation='relu'))\n",
        "    model.add(MaxPooling1D(pool_size=2))\n",
        "    model.add(Flatten())\n",
        "    model.add(Dense(units=64, activation='relu'))\n",
        "    model.add(Dropout(0.5))\n",
        "    model.add(Dense(units=1, activation='sigmoid'))\n",
        "\n",
        "    # Compile the model\n",
        "    model.compile(loss='binary_crossentropy', optimizer='adam', metrics=['accuracy'])\n",
        "\n",
        "    # Train the model\n",
        "    history = model.fit(X_train_frac, y_train_frac, epochs=10, batch_size=64, validation_split=0.1, verbose=0)\n",
        "    history_list.append(history)\n",
        "\n",
        "    # Evaluate the model on the validation set\n",
        "    # Evaluate the model on the validation set\n",
        "    y_pred_cnn = model.predict(X_valid)\n",
        "    y_pred_cnn = np.round(y_pred_cnn).flatten()\n",
        "    print(classification_report(valid_data['label'], y_pred_cnn))\n",
        "    print(\"Confusion matrix:\\n\", confusion_matrix(valid_data['label'], y_pred_cnn))\n",
        "    print('')\n",
        "    # Save the model\n",
        "    model.save(f'/content/gdrive/MyDrive/CE807/Assignment2/2204923/cnn_model_frac_{int(frac*100)}.h5')\n",
        "\n",
        "# Load the model\n",
        "loaded_model = tf.keras.models.load_model('/content/gdrive/MyDrive/CE807/Assignment2/2204923/cnn_model_frac_100.h5')\n"
      ],
      "metadata": {
        "colab": {
          "base_uri": "https://localhost:8080/"
        },
        "id": "5rFf7ec3tYLK",
        "outputId": "2fb334fc-5776-47e9-cf76-dcccb862e63f"
      },
      "execution_count": 66,
      "outputs": [
        {
          "output_type": "stream",
          "name": "stderr",
          "text": [
            "[nltk_data] Downloading package stopwords to /root/nltk_data...\n",
            "[nltk_data]   Package stopwords is already up-to-date!\n"
          ]
        },
        {
          "output_type": "stream",
          "name": "stdout",
          "text": [
            "Training on 60.0 % of the data\n",
            "29/29 [==============================] - 0s 12ms/step\n",
            "              precision    recall  f1-score   support\n",
            "\n",
            "           0       0.77      0.82      0.79       619\n",
            "           1       0.58      0.50      0.54       308\n",
            "\n",
            "    accuracy                           0.72       927\n",
            "   macro avg       0.68      0.66      0.67       927\n",
            "weighted avg       0.71      0.72      0.71       927\n",
            "\n",
            "Confusion matrix:\n",
            " [[508 111]\n",
            " [153 155]]\n",
            "\n",
            "Training on 75.0 % of the data\n",
            "29/29 [==============================] - 0s 11ms/step\n",
            "              precision    recall  f1-score   support\n",
            "\n",
            "           0       0.78      0.78      0.78       619\n",
            "           1       0.56      0.56      0.56       308\n",
            "\n",
            "    accuracy                           0.71       927\n",
            "   macro avg       0.67      0.67      0.67       927\n",
            "weighted avg       0.71      0.71      0.71       927\n",
            "\n",
            "Confusion matrix:\n",
            " [[485 134]\n",
            " [135 173]]\n",
            "\n",
            "Training on 85.0 % of the data\n",
            "29/29 [==============================] - 1s 24ms/step\n",
            "              precision    recall  f1-score   support\n",
            "\n",
            "           0       0.78      0.82      0.80       619\n",
            "           1       0.60      0.54      0.57       308\n",
            "\n",
            "    accuracy                           0.73       927\n",
            "   macro avg       0.69      0.68      0.68       927\n",
            "weighted avg       0.72      0.73      0.72       927\n",
            "\n",
            "Confusion matrix:\n",
            " [[507 112]\n",
            " [141 167]]\n",
            "\n",
            "Training on 100.0 % of the data\n",
            "29/29 [==============================] - 0s 11ms/step\n",
            "              precision    recall  f1-score   support\n",
            "\n",
            "           0       0.79      0.81      0.80       619\n",
            "           1       0.60      0.55      0.57       308\n",
            "\n",
            "    accuracy                           0.73       927\n",
            "   macro avg       0.69      0.68      0.69       927\n",
            "weighted avg       0.72      0.73      0.72       927\n",
            "\n",
            "Confusion matrix:\n",
            " [[504 115]\n",
            " [138 170]]\n",
            "\n"
          ]
        }
      ]
    },
    {
      "cell_type": "markdown",
      "source": [
        "The above implements a convolutional neural network (CNN) model to classify tweets into two categories, offensive and not offensive. The data is loaded from two CSV files, and then it is preprocessed by tokenizing the text and padding the sequences to a fixed length. The labels are encoded using the LabelEncoder 0 and 1 from Scikit-learn.\n",
        "\n",
        "I then trains the CNN model on different fractions of the training data and evaluates the model on the test set for each fraction. The CNN model consists of an embedding layer, followed by a one-dimensional convolutional layer, a max-pooling layer, a flattening layer, drop out layer which is used to nullifies the contribution of some neurons towards the next layer by dropping out the nodes in a neural network which take the parameter of 0.5, two dense layers with relu activation functions and a sigmoid activation function in the output layer. The model is compiled with binary cross-entropy loss and the Adam optimizer for faster computational time with fewer parameter tunning.\n",
        "\n",
        "After each training run, the  outputs a classification report and a confusion matrix for the model's performance on the test set is ouputed as follows- accuracy of approximately 0.70, 0.72, 0.72, and 0.72 in respective of 60%, 75%, 85% and 100% of randomly selected train dataset."
      ],
      "metadata": {
        "id": "ewaxKppSHf01"
      }
    },
    {
      "cell_type": "markdown",
      "source": [
        "we load the cnn model and test it on test dataset. After then, we save the prediction output."
      ],
      "metadata": {
        "id": "LTpgtcwNbzs1"
      }
    },
    {
      "cell_type": "code",
      "source": [
        "import pandas as pd\n",
        "import numpy as np\n",
        "import tensorflow as tf\n",
        "from tensorflow.keras.preprocessing.text import Tokenizer\n",
        "from tensorflow.keras.preprocessing.sequence import pad_sequences\n",
        "from sklearn.metrics import accuracy_score, recall_score, f1_score, confusion_matrix, precision_score\n",
        "import os\n",
        "\n",
        "\n",
        "def cnn_model(model_path, test_data_path, output_dir):\n",
        "    # Load the model\n",
        "    loaded_model = tf.keras.models.load_model('/content/gdrive/MyDrive/CE807/Assignment2/2204923/cnn_model.h5')\n",
        "\n",
        "    # Load the test data\n",
        "    test_data = pd.read_csv('/content/gdrive/MyDrive/CE807/Assignment2/2204923/test.csv')\n",
        "\n",
        "    # Tokenize the text\n",
        "    tokenizer = Tokenizer()\n",
        "    tokenizer.fit_on_texts(test_data['tweet'])\n",
        "    X_test = tokenizer.texts_to_sequences(test_data['tweet'])\n",
        "    max_len = 100\n",
        "    X_test = pad_sequences(X_test, maxlen=max_len, padding='post', truncating='post')\n",
        "\n",
        "    # Encode the labels\n",
        "    encoder = {'OFF': 1, 'NOT': 0}\n",
        "    test_data['label'] = test_data['label'].map(encoder)\n",
        "    \n",
        "    # Make predictions on the test data\n",
        "    y_pred = loaded_model.predict(X_test)\n",
        "    y_pred = np.round(y_pred).flatten()\n",
        "\n",
        "    # Save the predictions to a CSV file\n",
        "    output_path = os.path.join(output_dir, 'cnn_predictions_label.csv')\n",
        "    output_df = pd.DataFrame({'id': test_data['id'], 'label': y_pred})\n",
        "    output_df.to_csv(output_path, index=False)\n",
        "\n",
        "    # Calculate the performance metrics\n",
        "    accuracy = accuracy_score(test_data['label'], y_pred)\n",
        "    recall = recall_score(test_data['label'], y_pred)\n",
        "    precision = precision_score(test_data['label'], y_pred)\n",
        "    f1 = f1_score(test_data['label'], y_pred)\n",
        "    cmx = confusion_matrix(test_data['label'], y_pred)\n",
        "    # Print the performance metrics\n",
        "    print(\"Accuracy:\", accuracy)\n",
        "    print(\"Recall:\", recall)\n",
        "    print(\"Precision:\", precision)\n",
        "    print(\"F1 Score:\", f1)\n",
        "    print(\"Confusion matrix:\\n\", cmx )\n",
        "    print(output_df)\n",
        "    return accuracy, recall, precision, f1\n",
        "\n",
        "\n",
        "# call the function\n",
        "cnn_model('/content/gdrive/MyDrive/CE807/Assignment2/2204923/cnn_model.h5',\n",
        "           '/content/gdrive/MyDrive/CE807/Assignment2/2204923/test.csv',\n",
        "           '/content/gdrive/MyDrive/CE807/Assignment2/2204923')\n"
      ],
      "metadata": {
        "colab": {
          "base_uri": "https://localhost:8080/"
        },
        "id": "WghDA05O9pAs",
        "outputId": "ea66e761-1d44-42d6-d43f-e666007e3b3e"
      },
      "execution_count": 67,
      "outputs": [
        {
          "output_type": "stream",
          "name": "stdout",
          "text": [
            "27/27 [==============================] - 1s 19ms/step\n",
            "Accuracy: 0.586046511627907\n",
            "Recall: 0.3333333333333333\n",
            "Precision: 0.2898550724637681\n",
            "F1 Score: 0.31007751937984496\n",
            "Confusion matrix:\n",
            " [[424 196]\n",
            " [160  80]]\n",
            "        id  label\n",
            "0    15923    1.0\n",
            "1    27014    0.0\n",
            "2    30530    1.0\n",
            "3    13876    1.0\n",
            "4    60133    1.0\n",
            "..     ...    ...\n",
            "855  73439    1.0\n",
            "856  25657    0.0\n",
            "857  67018    1.0\n",
            "858  50665    0.0\n",
            "859  24583    0.0\n",
            "\n",
            "[860 rows x 2 columns]\n"
          ]
        },
        {
          "output_type": "execute_result",
          "data": {
            "text/plain": [
              "(0.586046511627907,\n",
              " 0.3333333333333333,\n",
              " 0.2898550724637681,\n",
              " 0.31007751937984496)"
            ]
          },
          "metadata": {},
          "execution_count": 67
        }
      ]
    },
    {
      "cell_type": "markdown",
      "source": [
        "**TASK 3**\n",
        "Dividing the dataset into 4 subset data size of 25%, 50%, 75% and 100%"
      ],
      "metadata": {
        "id": "bOtnesRFFOLs"
      }
    },
    {
      "cell_type": "code",
      "source": [
        "from sklearn.model_selection import train_test_split\n",
        "import pandas as pd\n",
        "\n",
        "# read the original train dataset\n",
        "traindfs = pd.read_csv(\"/content/gdrive/MyDrive/CE807/Assignment2/2204923/train.csv\", index_col=0)\n",
        "\n",
        "# split the train dataset into four subsets of 25%, 50%, 75%, and 100%\n",
        "train_25pct, _ = train_test_split(traindf, train_size=0.25, random_state=42)\n",
        "train_50pct, _ = train_test_split(traindf, train_size=0.5, random_state=42)\n",
        "train_75pct, _ = train_test_split(traindf, train_size=0.75, random_state=42)\n",
        "train_100pct = traindfs\n",
        "\n",
        "# save each subset to a separate CSV file\n",
        "train_25pct.to_csv(\"/content/gdrive/MyDrive/CE807/Assignment2/2204923/train_25pct.csv\")\n",
        "train_50pct.to_csv(\"/content/gdrive/MyDrive/CE807/Assignment2/2204923/train_50pct.csv\")\n",
        "train_75pct.to_csv(\"/content/gdrive/MyDrive/CE807/Assignment2/2204923/train_75pct.csv\")\n",
        "train_100pct.to_csv(\"/content/gdrive/MyDrive/CE807/Assignment2/2204923/train_100pct.csv\")\n",
        "print(train_25pct)\n",
        "print(train_25pct.shape)\n",
        "print('')\n",
        "print(train_50pct)\n",
        "print(train_50pct.shape)\n",
        "print('')\n",
        "print(train_75pct)\n",
        "print(train_75pct.shape)\n",
        "print('')\n",
        "print(train_100pct)\n",
        "print(train_100pct.shape)\n",
        "print('')"
      ],
      "metadata": {
        "colab": {
          "base_uri": "https://localhost:8080/"
        },
        "id": "syZjxTIv60cW",
        "outputId": "6c3291c8-e51e-4090-f0b0-aefbd44e1027"
      },
      "execution_count": 68,
      "outputs": [
        {
          "output_type": "stream",
          "name": "stdout",
          "text": [
            "                                                   tweet label\n",
            "id                                                            \n",
            "11275  @USER as Libertarian all this shows me is how ...   OFF\n",
            "27420  @USER @USER How about really healing the count...   OFF\n",
            "48645  @USER @USER It crossed my mind that Sheriff Is...   OFF\n",
            "12264  @USER @USER @USER wow @USER are these the type...   NOT\n",
            "14708  90% of these conservatives\" really aren't. The...   NOT\n",
            "...                                                  ...   ...\n",
            "76038  @USER If Kerry clown is actually doing it and ...   OFF\n",
            "12668  @USER But when dealing with liberals all bets ...   NOT\n",
            "27540  @USER @USER What difference does it make if th...   OFF\n",
            "10329  @USER @USER @USER #Feinstein needs to go. Her ...   OFF\n",
            "74527  #Levi #Strauss Takes Stand On Gun Control - UR...   NOT\n",
            "\n",
            "[3078 rows x 2 columns]\n",
            "(3078, 2)\n",
            "\n",
            "                                                   tweet label\n",
            "id                                                            \n",
            "81683  @USER So you’re saying THIS official is suppos...   OFF\n",
            "71845  @USER All this tape proves is that @USER was a...   OFF\n",
            "89747  @USER @USER is anything but an independent thi...   NOT\n",
            "32701  @USER He’s going to end up having a massive he...   NOT\n",
            "20540  @USER Yeah and....what’s the point of this art...   OFF\n",
            "...                                                  ...   ...\n",
            "76038  @USER If Kerry clown is actually doing it and ...   OFF\n",
            "12668  @USER But when dealing with liberals all bets ...   NOT\n",
            "27540  @USER @USER What difference does it make if th...   OFF\n",
            "10329  @USER @USER @USER #Feinstein needs to go. Her ...   OFF\n",
            "74527  #Levi #Strauss Takes Stand On Gun Control - UR...   NOT\n",
            "\n",
            "[6156 rows x 2 columns]\n",
            "(6156, 2)\n",
            "\n",
            "                                                   tweet label\n",
            "id                                                            \n",
            "81817  @USER Privat just means between B XVI and the ...   NOT\n",
            "56475  @USER @USER Gun control at its finest. If that...   NOT\n",
            "63762                                  @USER Bullshit!!!   OFF\n",
            "76966                                @USER Good thinking   NOT\n",
            "42423  @USER @USER @USER @USER You are as nasty as he is   OFF\n",
            "...                                                  ...   ...\n",
            "76038  @USER If Kerry clown is actually doing it and ...   OFF\n",
            "12668  @USER But when dealing with liberals all bets ...   NOT\n",
            "27540  @USER @USER What difference does it make if th...   OFF\n",
            "10329  @USER @USER @USER #Feinstein needs to go. Her ...   OFF\n",
            "74527  #Levi #Strauss Takes Stand On Gun Control - UR...   NOT\n",
            "\n",
            "[9234 rows x 2 columns]\n",
            "(9234, 2)\n",
            "\n",
            "                                                   tweet label\n",
            "id                                                            \n",
            "42884  @USER I’m done with you as well. An INTENTIONA...   NOT\n",
            "92152  I now have over 6k followers.  Only 94k to go ...   NOT\n",
            "65475  @USER Tom was bought! He is more interested in...   NOT\n",
            "22144  @USER @USER Even her brother thinks she is a m...   OFF\n",
            "81048  @USER @USER @USER @USER @USER I can understand...   OFF\n",
            "...                                                  ...   ...\n",
            "92805  And Soros money in their pocket. #maga🇺🇸🇺🇸🇺🇸🇺🇸...   NOT\n",
            "35989  @USER ur a fucking dumbass fr. there’s no way ...   OFF\n",
            "30188  .@USER They both want you to believe in yourse...   NOT\n",
            "96815  @USER It's like a reading a leaflet from Antif...   OFF\n",
            "10460  @USER And they have some of the strictest gun ...   OFF\n",
            "\n",
            "[12313 rows x 2 columns]\n",
            "(12313, 2)\n",
            "\n"
          ]
        }
      ]
    },
    {
      "cell_type": "markdown",
      "source": [
        "Proportion and shape of train data size"
      ],
      "metadata": {
        "id": "Qlu6Kt1QtIRE"
      }
    },
    {
      "cell_type": "code",
      "source": [
        "def analyze_train_dataset(train_size):\n",
        "    # construct the path to the CSV file based on the train_size parameter\n",
        "    csv_path = f\"/content/gdrive/MyDrive/CE807/Assignment2/2204923/train_{train_size}pct.csv\"\n",
        "    \n",
        "    # read the dataset\n",
        "    traindfsize = pd.read_csv(csv_path, index_col=0)\n",
        "\n",
        "    # count the number of offensive and non-offensive examples\n",
        "    offensive_count = (traindfsize[\"label\"] == \"OFF\").sum()\n",
        "    non_offensive_count = (traindfsize[\"label\"] == \"NOT\").sum()\n",
        "\n",
        "    # calculate the proportions\n",
        "    total_count = len(traindfsize)\n",
        "    offensive_proportion = (offensive_count / total_count)*100\n",
        "    non_offensive_proportion = (non_offensive_count / total_count)*100\n",
        "\n",
        "    print(traindfsize.head())\n",
        "    print(\"\")\n",
        "    print(f\"shape of {train_size}% train dataset:\")\n",
        "    print(traindfsize.shape)\n",
        "    print(\"\")\n",
        "    print(f\"proportion of each label for {train_size}%\")\n",
        "    print(f\"Proportion of offensive speech: {offensive_proportion:.2f}\")\n",
        "    print(f\"Proportion of non-offensive speech: {non_offensive_proportion:.2f}\")\n",
        "\n",
        "# analyze the 25% train dataset\n",
        "analyze_train_dataset(25)\n",
        "\n",
        "# analyze the 50% train dataset\n",
        "analyze_train_dataset(50)\n",
        "\n",
        "# analyze the 75% train dataset\n",
        "analyze_train_dataset(75)\n",
        "\n",
        "# analyze the 100% train dataset\n",
        "analyze_train_dataset(100)\n",
        "\n"
      ],
      "metadata": {
        "colab": {
          "base_uri": "https://localhost:8080/"
        },
        "id": "p-6K9La5rHK5",
        "outputId": "ffbaca2d-32ed-4426-cbd9-6bf9749ace53"
      },
      "execution_count": 69,
      "outputs": [
        {
          "output_type": "stream",
          "name": "stdout",
          "text": [
            "                                                   tweet label\n",
            "id                                                            \n",
            "11275  @USER as Libertarian all this shows me is how ...   OFF\n",
            "27420  @USER @USER How about really healing the count...   OFF\n",
            "48645  @USER @USER It crossed my mind that Sheriff Is...   OFF\n",
            "12264  @USER @USER @USER wow @USER are these the type...   NOT\n",
            "14708  90% of these conservatives\" really aren't. The...   NOT\n",
            "\n",
            "shape of 25% train dataset:\n",
            "(3078, 2)\n",
            "\n",
            "proportion of each label for 25%\n",
            "Proportion of offensive speech: 32.55\n",
            "Proportion of non-offensive speech: 67.45\n",
            "                                                   tweet label\n",
            "id                                                            \n",
            "81683  @USER So you’re saying THIS official is suppos...   OFF\n",
            "71845  @USER All this tape proves is that @USER was a...   OFF\n",
            "89747  @USER @USER is anything but an independent thi...   NOT\n",
            "32701  @USER He’s going to end up having a massive he...   NOT\n",
            "20540  @USER Yeah and....what’s the point of this art...   OFF\n",
            "\n",
            "shape of 50% train dataset:\n",
            "(6156, 2)\n",
            "\n",
            "proportion of each label for 50%\n",
            "Proportion of offensive speech: 33.41\n",
            "Proportion of non-offensive speech: 66.59\n",
            "                                                   tweet label\n",
            "id                                                            \n",
            "81817  @USER Privat just means between B XVI and the ...   NOT\n",
            "56475  @USER @USER Gun control at its finest. If that...   NOT\n",
            "63762                                  @USER Bullshit!!!   OFF\n",
            "76966                                @USER Good thinking   NOT\n",
            "42423  @USER @USER @USER @USER You are as nasty as he is   OFF\n",
            "\n",
            "shape of 75% train dataset:\n",
            "(9234, 2)\n",
            "\n",
            "proportion of each label for 75%\n",
            "Proportion of offensive speech: 33.45\n",
            "Proportion of non-offensive speech: 66.55\n",
            "                                                   tweet label\n",
            "id                                                            \n",
            "42884  @USER I’m done with you as well. An INTENTIONA...   NOT\n",
            "92152  I now have over 6k followers.  Only 94k to go ...   NOT\n",
            "65475  @USER Tom was bought! He is more interested in...   NOT\n",
            "22144  @USER @USER Even her brother thinks she is a m...   OFF\n",
            "81048  @USER @USER @USER @USER @USER I can understand...   OFF\n",
            "\n",
            "shape of 100% train dataset:\n",
            "(12313, 2)\n",
            "\n",
            "proportion of each label for 100%\n",
            "Proportion of offensive speech: 33.23\n",
            "Proportion of non-offensive speech: 66.77\n"
          ]
        }
      ]
    },
    {
      "cell_type": "markdown",
      "source": [
        "**Testing support vector machine classifier on different subset of 25%, 50%, 75% and 100% using support vector machine and save the output test data into gdrive**"
      ],
      "metadata": {
        "id": "TE-xE-q6kGDA"
      }
    },
    {
      "cell_type": "code",
      "source": [
        "from sklearn.feature_extraction.text import TfidfVectorizer\n",
        "\n",
        "val_acc_scores = []\n",
        "test_acc_scores = []\n",
        "  \n",
        "def train_test_svm(data_path, train_files, val_data_path, test_data_path):\n",
        "    global test_acc_scores, val_acc_scores \n",
        "\n",
        "    # Load the data using pandas read_csv function\n",
        "    data = pd.read_csv(data_path)\n",
        "    val_data = pd.read_csv(val_data_path)\n",
        "    test_data = pd.read_csv(test_data_path)\n",
        "\n",
        "    # Define lists to hold the performance results\n",
        "    train_acc_scores = []\n",
        "    val_acc_scores = []\n",
        "    test_acc_scores = []\n",
        "    train_precisions = []\n",
        "    val_precisions = []\n",
        "    test_precisions = []\n",
        "    train_recalls = []\n",
        "    val_recalls = []\n",
        "    test_recalls = []\n",
        "    train_f1_scores = []\n",
        "    val_f1_scores = []\n",
        "    test_f1_scores = []\n",
        "\n",
        "    # Define the vectorizer and classifier\n",
        "    vectorizer = TfidfVectorizer(stop_words='english')\n",
        "    svm = SVC(C=1, gamma=0.01, kernel='linear')\n",
        "\n",
        "    for train_file in train_files:\n",
        "        # Load the training set based on the file path\n",
        "        train_data = pd.read_csv(train_file)\n",
        "        x_train = train_data['tweet']\n",
        "        y_train = train_data['label']\n",
        "        x_train = vectorizer.fit_transform(x_train)\n",
        "\n",
        "        # Fit the model and predict on the training set\n",
        "        svm.fit(x_train, y_train)\n",
        "        y_train_pred = svm.predict(x_train)\n",
        "\n",
        "        # Evaluate on the training set\n",
        "        train_acc = accuracy_score(y_train, y_train_pred)\n",
        "        train_acc_scores.append(train_acc)\n",
        "        train_precision = precision_score(y_train, y_train_pred, average='macro')\n",
        "        train_precisions.append(train_precision)\n",
        "        train_recall = recall_score(y_train, y_train_pred, average='macro')\n",
        "        train_recalls.append(train_recall)\n",
        "        train_f1 = f1_score(y_train, y_train_pred, average='macro')\n",
        "        train_f1_scores.append(train_f1)\n",
        "\n",
        "        # Vectorize the validation and testing sets\n",
        "        x_val = vectorizer.transform(val_data['tweet'])\n",
        "        x_test = vectorizer.transform(test_data['tweet'])\n",
        "\n",
        "        # Evaluate on the validation set\n",
        "        y_val_pred = svm.predict(x_val)\n",
        "        val_acc = accuracy_score(val_data['label'], y_val_pred)\n",
        "        val_acc_scores.append(val_acc)\n",
        "        val_precision = precision_score(val_data['label'], y_val_pred, average='macro')\n",
        "        val_precisions.append(val_precision)\n",
        "        val_recall = recall_score(val_data['label'], y_val_pred, average='macro')\n",
        "        val_recalls.append(val_recall)\n",
        "        val_f1 = f1_score(val_data['label'], y_val_pred, average='macro')\n",
        "        val_f1_scores.append(val_f1)\n",
        "\n",
        "        # Evaluate on the testing set\n",
        "        y_test_pred = svm.predict(x_test)\n",
        "        test_acc = accuracy_score(test_data['label'], y_test_pred)\n",
        "        test_acc_scores.append(test_acc)\n",
        "        test_precision = precision_score(test_data['label'], y_test_pred, average='macro')\n",
        "        test_precisions.append(test_precision)\n",
        "        test_recall = recall_score(test_data['label'], y_test_pred, average='macro')\n",
        "        test_recalls.append(test_recall)\n",
        "        test_f1 = f1_score(test_data['label'], y_test_pred, average='macro')\n",
        "        test_f1_scores.append(test_f1)\n",
        "\n",
        "        # Write the test prediction output to file\n",
        "        test_data['predicted_label'] = y_test_pred\n",
        "        test_data.to_csv(os.path.splitext(train_file)[0] + '_output_test_svm.csv', index=False)\n",
        "\n",
        "\n",
        "\n",
        "        # Print the performance metrics\n",
        "        print(f'Train Size: {os.path.basename(train_file)}')\n",
        "        print(f'Training Accuracy: {train_acc:.4f}')\n",
        "        print(f'Training Precision: {train_precision:.4f}')\n",
        "        print(f'Training Recall: {train_recall:.4f}')\n",
        "        print(f'Training F1 score: {train_f1:.4f}')\n",
        "        print('')\n",
        "        print('')\n",
        "        print(f'Train Size: {os.path.basename(train_file)}')\n",
        "        print(f'Validation Accuracy: {val_acc:.4f}')\n",
        "        print(f'Validation Precision: {val_precision:.4f}')\n",
        "        print(f'Validation Recall: {val_recall:.4f}')\n",
        "        print(f'Validation F1 score: {val_f1:.4f}')\n",
        "        print('')\n",
        "        print('')\n",
        "        print(f'Train Size: {os.path.basename(train_file)}')\n",
        "        print(f'Test Accuracy: {test_acc:.4f}')\n",
        "        print(f'Test Precision: {test_precision:.4f}')\n",
        "        print(f'Test Recall: {test_recall:.4f}')\n",
        "        print(f'Test F1 score: {test_f1:.4f}')\n",
        "        print('')\n",
        "# call the function\n",
        "data_path = '/content/gdrive/MyDrive/CE807/Assignment2/2204923/train.csv'\n",
        "#train_size_list = [0.25, 0.5, 0.75, 1]\n",
        "train_files = ['/content/gdrive/MyDrive/CE807/Assignment2/2204923/train_25pct.csv',\n",
        "                   '/content/gdrive/MyDrive/CE807/Assignment2/2204923/train_50pct.csv',\n",
        "                   '/content/gdrive/MyDrive/CE807/Assignment2/2204923/train_75pct.csv',\n",
        "                   '/content/gdrive/MyDrive/CE807/Assignment2/2204923/train_100pct.csv'\n",
        "]\n",
        "val_data_path = '/content/gdrive/MyDrive/CE807/Assignment2/2204923/valid.csv'\n",
        "test_data_path = '/content/gdrive/MyDrive/CE807/Assignment2/2204923/test.csv'\n",
        "\n",
        "train_test_svm(data_path, train_files, val_data_path, test_data_path)\n",
        "print(test_acc_scores)\n",
        "print(val_acc_scores)\n",
        "              \n"
      ],
      "metadata": {
        "colab": {
          "base_uri": "https://localhost:8080/"
        },
        "id": "m8qIYfYfOKV8",
        "outputId": "b5dc8054-13f5-473e-db07-07bcd1963878"
      },
      "execution_count": 70,
      "outputs": [
        {
          "output_type": "stream",
          "name": "stdout",
          "text": [
            "Train Size: train_25pct.csv\n",
            "Training Accuracy: 0.9168\n",
            "Training Precision: 0.9349\n",
            "Training Recall: 0.8779\n",
            "Training F1 score: 0.8992\n",
            "\n",
            "\n",
            "Train Size: train_25pct.csv\n",
            "Validation Accuracy: 0.7379\n",
            "Validation Precision: 0.7266\n",
            "Validation Recall: 0.6422\n",
            "Validation F1 score: 0.6502\n",
            "\n",
            "\n",
            "Train Size: train_25pct.csv\n",
            "Test Accuracy: 0.7849\n",
            "Test Precision: 0.7729\n",
            "Test Recall: 0.6478\n",
            "Test F1 score: 0.6661\n",
            "\n",
            "Train Size: train_50pct.csv\n",
            "Training Accuracy: 0.8944\n",
            "Training Precision: 0.9155\n",
            "Training Recall: 0.8499\n",
            "Training F1 score: 0.8723\n",
            "\n",
            "\n",
            "Train Size: train_50pct.csv\n",
            "Validation Accuracy: 0.7530\n",
            "Validation Precision: 0.7382\n",
            "Validation Recall: 0.6715\n",
            "Validation F1 score: 0.6836\n",
            "\n",
            "\n",
            "Train Size: train_50pct.csv\n",
            "Test Accuracy: 0.8140\n",
            "Test Precision: 0.8198\n",
            "Test Recall: 0.6935\n",
            "Test F1 score: 0.7201\n",
            "\n",
            "Train Size: train_75pct.csv\n",
            "Training Accuracy: 0.8882\n",
            "Training Precision: 0.9087\n",
            "Training Recall: 0.8423\n",
            "Training F1 score: 0.8646\n",
            "\n",
            "\n",
            "Train Size: train_75pct.csv\n",
            "Validation Accuracy: 0.7638\n",
            "Validation Precision: 0.7499\n",
            "Validation Recall: 0.6885\n",
            "Validation F1 score: 0.7020\n",
            "\n",
            "\n",
            "Train Size: train_75pct.csv\n",
            "Test Accuracy: 0.8256\n",
            "Test Precision: 0.8411\n",
            "Test Recall: 0.7092\n",
            "Test F1 score: 0.7386\n",
            "\n",
            "Train Size: train_100pct.csv\n",
            "Training Accuracy: 0.8812\n",
            "Training Precision: 0.8970\n",
            "Training Recall: 0.8347\n",
            "Training F1 score: 0.8559\n",
            "\n",
            "\n",
            "Train Size: train_100pct.csv\n",
            "Validation Accuracy: 0.7648\n",
            "Validation Precision: 0.7512\n",
            "Validation Recall: 0.6901\n",
            "Validation F1 score: 0.7037\n",
            "\n",
            "\n",
            "Train Size: train_100pct.csv\n",
            "Test Accuracy: 0.8256\n",
            "Test Precision: 0.8277\n",
            "Test Recall: 0.7169\n",
            "Test F1 score: 0.7447\n",
            "\n",
            "[0.7848837209302325, 0.813953488372093, 0.8255813953488372, 0.8255813953488372]\n",
            "[0.7378640776699029, 0.7529665587918015, 0.7637540453074434, 0.7648327939590076]\n"
          ]
        }
      ]
    },
    {
      "cell_type": "markdown",
      "source": [
        "The code above is implementing a Support Vector Machine (SVM) model for a text classification task. The data is loaded using Pandas read_csv function, and the model is trained using the TF-IDF vectorizer and linear kernel SVM classifier (A linear kernel computes the dot product between the input vectors, which measures how much they overlap in the feature space.). The performance of the model is evaluated on training, validation, and testing sets using several evaluation metrics such as accuracy, precision, recall, and F1 score.\n",
        "\n",
        "The train_test_svm function takes four input arguments: data_path, train_files, val_data_path, and test_data_path. The data_path variable represents the path of the main training data file, train_files is a list of paths of different training set files of datafile, 25%, 50%, 75% and 100% with varying sizes, val_data_path represents the path of the validation data file, and test_data_path represents the path of the test data file.\n",
        "\n",
        "The function iterates through each train_file in train_files, loads the data, fits the model on the training set, and evaluates the performance of the model on the training, validation, and testing sets. The evaluation metrics are stored in separate lists, and the results are printed to the console.\n",
        "\n",
        "In conclusion, we see that the more the size of train dataset, the more the test set accuarcy which ranges from 0.78 to 0.83\n",
        "\n"
      ],
      "metadata": {
        "id": "RArvaDTIc9kc"
      }
    },
    {
      "cell_type": "markdown",
      "source": [
        "**plot the gragh to show the behaviour of SVC  performance metric again data size to show the behaviour of test dataset and validation data set**"
      ],
      "metadata": {
        "id": "xbLbQhzNk8C1"
      }
    },
    {
      "cell_type": "code",
      "source": [
        "print(test_acc_scores)\n",
        "print(val_acc_scores)\n",
        "\n",
        "# Plot the results\n",
        "from matplotlib import pyplot as plt\n",
        "subset_sizes = [0.25, 0.5, 0.75, 1.0]\n",
        "\n",
        "plt.plot(subset_sizes, val_acc_scores, label='Validation Accuracy')\n",
        "plt.plot(subset_sizes, test_acc_scores, label='Test Accuracy')\n",
        "plt.xlabel('Data Size')\n",
        "plt.ylabel('Accuracy')\n",
        "plt.title('Accuracy vs Data Size')\n",
        "plt.legend()\n",
        "plt.show()\n"
      ],
      "metadata": {
        "colab": {
          "base_uri": "https://localhost:8080/",
          "height": 507
        },
        "id": "V7GOi7fRvyIi",
        "outputId": "c27d9fed-e5cb-45f2-c098-77188afd9f4b"
      },
      "execution_count": 71,
      "outputs": [
        {
          "output_type": "stream",
          "name": "stdout",
          "text": [
            "[0.7848837209302325, 0.813953488372093, 0.8255813953488372, 0.8255813953488372]\n",
            "[0.7378640776699029, 0.7529665587918015, 0.7637540453074434, 0.7648327939590076]\n"
          ]
        },
        {
          "output_type": "display_data",
          "data": {
            "text/plain": [
              "<Figure size 640x480 with 1 Axes>"
            ],
            "image/png": "[encoded data removed]"
          },
          "metadata": {}
        }
      ]
    },
    {
      "cell_type": "markdown",
      "source": [
        "The graph above demonstrate the relationship of the data size of the training dataset and the accuracy of the test dataset. This indicate that as the data size of the train dataset increases, the better the model fit the train dataset which lead to better accuracy of the test and validation of the data set."
      ],
      "metadata": {
        "id": "-NTAFXrlkiRj"
      }
    },
    {
      "cell_type": "markdown",
      "source": [
        "**Testing the accuracy of 25%, 50%, 75% and 100% of training data using CNN**"
      ],
      "metadata": {
        "id": "q7G_FQqnPTbM"
      }
    },
    {
      "cell_type": "code",
      "source": [
        "import pandas as pd\n",
        "import numpy as np\n",
        "import tensorflow as tf\n",
        "from tensorflow.keras.preprocessing.text import Tokenizer\n",
        "from tensorflow.keras.preprocessing.sequence import pad_sequences\n",
        "from tensorflow.keras.layers import Embedding, Conv1D, MaxPooling1D, Flatten, Dense, Dropout\n",
        "from tensorflow.keras.models import Sequential\n",
        "from sklearn.preprocessing import LabelEncoder\n",
        "from sklearn.metrics import classification_report, confusion_matrix\n",
        "import nltk\n",
        "nltk.download(\"stopwords\")\n",
        "from nltk.corpus import stopwords\n",
        "\n",
        "# Load the stop words\n",
        "stop_words = set(stopwords.words('english'))\n",
        "\n",
        "def train_test_cnn(train_files, val_data_path, test_data_path, model_dir):\n",
        "    # Load the data\n",
        "    train_data_25 = pd.read_csv(train_files[0])\n",
        "    train_data_50 = pd.read_csv(train_files[1])\n",
        "    train_data_75 = pd.read_csv(train_files[2])\n",
        "    train_data_100 = pd.read_csv(train_files[3])\n",
        "    val_data = pd.read_csv(val_data_path)\n",
        "    test_data = pd.read_csv(test_data_path)\n",
        "\n",
        "    # Tokenize the text\n",
        "    tokenizer = Tokenizer()\n",
        "    tokenizer.fit_on_texts(train_data_100['tweet'])\n",
        "    X_train_25 = tokenizer.texts_to_sequences(train_data_25['tweet'])\n",
        "    X_train_50 = tokenizer.texts_to_sequences(train_data_50['tweet'])\n",
        "    X_train_75 = tokenizer.texts_to_sequences(train_data_75['tweet'])\n",
        "    X_train_100 = tokenizer.texts_to_sequences(train_data_100['tweet'])\n",
        "    X_val = tokenizer.texts_to_sequences(val_data['tweet'])\n",
        "    X_test = tokenizer.texts_to_sequences(test_data['tweet'])\n",
        "    \n",
        "    # Remove stop words from the text sequences\n",
        "    X_train_25 = [[word for word in seq if word not in stop_words] for seq in X_train_25]\n",
        "    X_train_50 = [[word for word in seq if word not in stop_words] for seq in X_train_50]\n",
        "    X_train_75 = [[word for word in seq if word not in stop_words] for seq in X_train_75]\n",
        "    X_train_100 = [[word for word in seq if word not in stop_words] for seq in X_train_100]\n",
        "    X_val = [[word for word in seq if word not in stop_words] for seq in X_val]\n",
        "    X_test = [[word for word in seq if word not in stop_words] for seq in X_test]\n",
        "\n",
        "\n",
        "    # Pad the sequences to have the same length\n",
        "    max_len = 100\n",
        "    X_train_25 = pad_sequences(X_train_25, maxlen=max_len, padding='post', truncating='post')\n",
        "    X_train_50 = pad_sequences(X_train_50, maxlen=max_len, padding='post', truncating='post')\n",
        "    X_train_75 = pad_sequences(X_train_75, maxlen=max_len, padding='post', truncating='post')\n",
        "    X_train_100 = pad_sequences(X_train_100, maxlen=max_len, padding='post', truncating='post')\n",
        "    X_val = pad_sequences(X_val, maxlen=max_len, padding='post', truncating='post')\n",
        "    X_test = pad_sequences(X_test, maxlen=max_len, padding='post', truncating='post')\n",
        "\n",
        "    # Encode the labels\n",
        "    from sklearn.preprocessing import LabelEncoder\n",
        "    encoder = LabelEncoder()\n",
        "    train_data_25['label'] = encoder.fit_transform(train_data_25['label'])\n",
        "    train_data_50['label'] = encoder.fit_transform(train_data_50['label'])\n",
        "    train_data_75['label'] = encoder.fit_transform(train_data_75['label'])\n",
        "    train_data_100['label'] = encoder.fit_transform(train_data_100['label'])\n",
        "    val_data['label'] = encoder.transform(val_data['label'])\n",
        "    test_data['label'] = encoder.transform(test_data['label'])\n",
        "\n",
        "    # Train the model on each subset\n",
        "    predictions_list = []\n",
        "    history_list = []\n",
        "    subsets = [(0.25, X_train_25, train_data_25['label']), \n",
        "               (0.5, X_train_50, train_data_50['label']), \n",
        "               (0.75, X_train_75, train_data_75['label']), \n",
        "               (1.0, X_train_100, train_data_100['label'])]\n",
        "    \n",
        "    for frac, X_train_frac, y_train_frac in subsets:\n",
        "        print(\"Training on\", frac*100, \"% of the data\")\n",
        "\n",
        "        # Define the CNN model\n",
        "        model = Sequential()\n",
        "        model.add(Embedding(input_dim=len(tokenizer.word_index)+1, output_dim=100, input_length=max_len))\n",
        "        model.add(Conv1D(filters=128, kernel_size=5, activation='relu'))\n",
        "        model.add(MaxPooling1D(pool_size=5))\n",
        "        model.add(Flatten())\n",
        "        model.add(Dense(1, activation='sigmoid'))\n",
        "\n",
        "        # Compile the model\n",
        "        model.compile(optimizer='adam', loss='binary_crossentropy', metrics=['accuracy'])\n",
        "\n",
        "        # Train the model\n",
        "        history = model.fit(X_train_frac, y_train_frac, epochs=10, batch_size=32, validation_data=(X_val, val_data['label']))\n",
        "\n",
        "        # Save the model\n",
        "        #model.save(os.path.join(model_dir, f\"model_{frac}.h5\"))\n",
        "\n",
        "        # Add the history to the list\n",
        "        history_list.append(history)\n",
        "        # Return the histories and test scores\n",
        "        #return history_list, test_scores\n",
        "\n",
        "        # Save the predictions\n",
        "        y_pred = model.predict(X_test)\n",
        "        predictions_list.append(y_pred)\n",
        "\n",
        "        # Save the predictions\n",
        "        for i, y_pred in enumerate(predictions_list):\n",
        "            frac = subsets[i][0]\n",
        "            pred_classes = encoder.inverse_transform((y_pred > 0.5).astype(int).ravel())\n",
        "            output_path = os.path.join('/content/gdrive/MyDrive/CE807/Assignment2/2204923', f\"output_label_cnn_{frac*100}.csv\")\n",
        "            test_data['pred_classes'] = pred_classes\n",
        "            test_data.to_csv(output_path, index=False)\n",
        "\n",
        "\n",
        "        # Evaluate the models on the test set\n",
        "        test_scores = []\n",
        "        val_scores  = []\n",
        "        for frac, X_train_frac, y_train_frac in subsets:\n",
        "            from tensorflow.keras.models import load_model\n",
        "            #model = load_model(os.path.join(model_dir, f\"model_{frac}.h5\"))\n",
        "            test_loss, test_acc = model.evaluate(X_test, test_data['label'], verbose=0)\n",
        "            test_scores.append((frac, test_loss, test_acc))\n",
        "            val_loss, val_acc = model.evaluate(X_val, val_data['label'], verbose=0)\n",
        "            val_scores.append((frac, val_loss, val_acc))\n",
        "        print(f\"Test set results for  the training data:\")\n",
        "        print(f\"  Loss: {test_loss:.4f}\")\n",
        "        print(f\"  Accuracy: {test_acc:.4f}\")\n",
        "        print(f\"Validation set results for  the training data:\")\n",
        "        print(f\"  Loss: {val_loss:.4f}\")\n",
        "        print(f\"  Accuracy: {val_acc:.4f}\")\n",
        "\n",
        "\n",
        "# call the function\n",
        "train_files = ['/content/gdrive/MyDrive/CE807/Assignment2/2204923/train_25pct.csv',\n",
        "                   '/content/gdrive/MyDrive/CE807/Assignment2/2204923/train_50pct.csv',\n",
        "                   '/content/gdrive/MyDrive/CE807/Assignment2/2204923/train_75pct.csv',\n",
        "                   '/content/gdrive/MyDrive/CE807/Assignment2/2204923/train_100pct.csv'\n",
        "]\n",
        "val_data_path = '/content/gdrive/MyDrive/CE807/Assignment2/2204923/valid.csv'\n",
        "test_data_path = '/content/gdrive/MyDrive/CE807/Assignment2/2204923/test.csv'\n",
        "model_dir = '/content/gdrive/MyDrive/CE807/Assignment2/2204923/cnn_model.h5'\n",
        "train_test_cnn(train_files, val_data_path, test_data_path, model_dir)\n",
        "\n",
        "\n"
      ],
      "metadata": {
        "colab": {
          "base_uri": "https://localhost:8080/"
        },
        "id": "Lx7exzPSCmbh",
        "outputId": "556b596e-92c2-4a3e-9657-feb454affb58"
      },
      "execution_count": 72,
      "outputs": [
        {
          "output_type": "stream",
          "name": "stderr",
          "text": [
            "[nltk_data] Downloading package stopwords to /root/nltk_data...\n",
            "[nltk_data]   Package stopwords is already up-to-date!\n"
          ]
        },
        {
          "output_type": "stream",
          "name": "stdout",
          "text": [
            "Training on 25.0 % of the data\n",
            "Epoch 1/10\n",
            "97/97 [==============================] - 9s 79ms/step - loss: 0.6302 - accuracy: 0.6735 - val_loss: 0.6290 - val_accuracy: 0.6677\n",
            "Epoch 2/10\n",
            "97/97 [==============================] - 7s 68ms/step - loss: 0.5564 - accuracy: 0.7092 - val_loss: 0.5840 - val_accuracy: 0.6969\n",
            "Epoch 3/10\n",
            "97/97 [==============================] - 6s 64ms/step - loss: 0.2747 - accuracy: 0.9019 - val_loss: 0.6514 - val_accuracy: 0.7044\n",
            "Epoch 4/10\n",
            "97/97 [==============================] - 8s 82ms/step - loss: 0.0944 - accuracy: 0.9717 - val_loss: 0.7728 - val_accuracy: 0.7109\n",
            "Epoch 5/10\n",
            "97/97 [==============================] - 6s 60ms/step - loss: 0.0406 - accuracy: 0.9919 - val_loss: 0.9173 - val_accuracy: 0.7195\n",
            "Epoch 6/10\n",
            "97/97 [==============================] - 8s 87ms/step - loss: 0.0218 - accuracy: 0.9948 - val_loss: 0.9647 - val_accuracy: 0.7066\n",
            "Epoch 7/10\n",
            "97/97 [==============================] - 6s 59ms/step - loss: 0.0130 - accuracy: 0.9981 - val_loss: 1.0404 - val_accuracy: 0.7044\n",
            "Epoch 8/10\n",
            "97/97 [==============================] - 7s 75ms/step - loss: 0.0091 - accuracy: 0.9987 - val_loss: 1.1305 - val_accuracy: 0.7120\n",
            "Epoch 9/10\n",
            "97/97 [==============================] - 7s 70ms/step - loss: 0.0059 - accuracy: 0.9997 - val_loss: 1.1648 - val_accuracy: 0.7109\n",
            "Epoch 10/10\n",
            "97/97 [==============================] - 6s 60ms/step - loss: 0.0058 - accuracy: 0.9994 - val_loss: 1.1937 - val_accuracy: 0.7033\n",
            "27/27 [==============================] - 1s 19ms/step\n",
            "Test set results for  the training data:\n",
            "  Loss: 1.0404\n",
            "  Accuracy: 0.7302\n",
            "Validation set results for  the training data:\n",
            "  Loss: 1.1937\n",
            "  Accuracy: 0.7033\n",
            "Training on 50.0 % of the data\n",
            "Epoch 1/10\n",
            "193/193 [==============================] - 14s 69ms/step - loss: 0.6301 - accuracy: 0.6668 - val_loss: 0.5956 - val_accuracy: 0.6861\n",
            "Epoch 2/10\n",
            "193/193 [==============================] - 12s 64ms/step - loss: 0.4471 - accuracy: 0.7953 - val_loss: 0.5353 - val_accuracy: 0.7519\n",
            "Epoch 3/10\n",
            "193/193 [==============================] - 13s 70ms/step - loss: 0.1946 - accuracy: 0.9287 - val_loss: 0.6861 - val_accuracy: 0.7174\n",
            "Epoch 4/10\n",
            "193/193 [==============================] - 14s 70ms/step - loss: 0.0784 - accuracy: 0.9764 - val_loss: 0.8094 - val_accuracy: 0.7195\n",
            "Epoch 5/10\n",
            "193/193 [==============================] - 14s 71ms/step - loss: 0.0345 - accuracy: 0.9922 - val_loss: 0.9592 - val_accuracy: 0.7325\n",
            "Epoch 6/10\n",
            "193/193 [==============================] - 14s 72ms/step - loss: 0.0198 - accuracy: 0.9946 - val_loss: 1.0740 - val_accuracy: 0.7238\n",
            "Epoch 7/10\n",
            "193/193 [==============================] - 12s 63ms/step - loss: 0.0123 - accuracy: 0.9974 - val_loss: 1.1623 - val_accuracy: 0.7249\n",
            "Epoch 8/10\n",
            "193/193 [==============================] - 13s 66ms/step - loss: 0.0081 - accuracy: 0.9985 - val_loss: 1.2231 - val_accuracy: 0.7217\n",
            "Epoch 9/10\n",
            "193/193 [==============================] - 14s 71ms/step - loss: 0.0068 - accuracy: 0.9989 - val_loss: 1.2925 - val_accuracy: 0.7271\n",
            "Epoch 10/10\n",
            "193/193 [==============================] - 14s 72ms/step - loss: 0.0059 - accuracy: 0.9987 - val_loss: 1.3272 - val_accuracy: 0.7184\n",
            "27/27 [==============================] - 1s 18ms/step\n",
            "Test set results for  the training data:\n",
            "  Loss: 1.1923\n",
            "  Accuracy: 0.7360\n",
            "Validation set results for  the training data:\n",
            "  Loss: 1.3272\n",
            "  Accuracy: 0.7184\n",
            "Training on 75.0 % of the data\n",
            "Epoch 1/10\n",
            "289/289 [==============================] - 20s 67ms/step - loss: 0.6029 - accuracy: 0.6861 - val_loss: 0.5260 - val_accuracy: 0.7605\n",
            "Epoch 2/10\n",
            "289/289 [==============================] - 19s 67ms/step - loss: 0.3965 - accuracy: 0.8255 - val_loss: 0.5525 - val_accuracy: 0.7497\n",
            "Epoch 3/10\n",
            "289/289 [==============================] - 21s 72ms/step - loss: 0.1828 - accuracy: 0.9333 - val_loss: 0.7109 - val_accuracy: 0.7314\n",
            "Epoch 4/10\n",
            "289/289 [==============================] - 20s 70ms/step - loss: 0.0774 - accuracy: 0.9771 - val_loss: 0.8472 - val_accuracy: 0.7271\n",
            "Epoch 5/10\n",
            "289/289 [==============================] - 19s 66ms/step - loss: 0.0370 - accuracy: 0.9907 - val_loss: 0.9911 - val_accuracy: 0.7238\n",
            "Epoch 6/10\n",
            "289/289 [==============================] - 19s 67ms/step - loss: 0.0237 - accuracy: 0.9943 - val_loss: 1.0831 - val_accuracy: 0.7206\n",
            "Epoch 7/10\n",
            "289/289 [==============================] - 19s 67ms/step - loss: 0.0193 - accuracy: 0.9957 - val_loss: 1.1432 - val_accuracy: 0.7238\n",
            "Epoch 8/10\n",
            "289/289 [==============================] - 21s 71ms/step - loss: 0.0145 - accuracy: 0.9965 - val_loss: 1.1792 - val_accuracy: 0.7314\n",
            "Epoch 9/10\n",
            "289/289 [==============================] - 20s 71ms/step - loss: 0.0148 - accuracy: 0.9970 - val_loss: 1.1958 - val_accuracy: 0.7282\n",
            "Epoch 10/10\n",
            "289/289 [==============================] - 19s 67ms/step - loss: 0.0123 - accuracy: 0.9971 - val_loss: 1.2400 - val_accuracy: 0.7282\n",
            "27/27 [==============================] - 0s 12ms/step\n",
            "Test set results for  the training data:\n",
            "  Loss: 1.1106\n",
            "  Accuracy: 0.7523\n",
            "Validation set results for  the training data:\n",
            "  Loss: 1.2400\n",
            "  Accuracy: 0.7282\n",
            "Training on 100.0 % of the data\n",
            "Epoch 1/10\n",
            "385/385 [==============================] - 28s 72ms/step - loss: 0.5800 - accuracy: 0.7083 - val_loss: 0.5108 - val_accuracy: 0.7627\n",
            "Epoch 2/10\n",
            "385/385 [==============================] - 26s 67ms/step - loss: 0.3798 - accuracy: 0.8367 - val_loss: 0.5351 - val_accuracy: 0.7519\n",
            "Epoch 3/10\n",
            "385/385 [==============================] - 26s 68ms/step - loss: 0.1888 - accuracy: 0.9289 - val_loss: 0.7379 - val_accuracy: 0.7368\n",
            "Epoch 4/10\n",
            "385/385 [==============================] - 28s 72ms/step - loss: 0.0828 - accuracy: 0.9743 - val_loss: 0.8948 - val_accuracy: 0.7098\n",
            "Epoch 5/10\n",
            "385/385 [==============================] - 25s 64ms/step - loss: 0.0385 - accuracy: 0.9899 - val_loss: 1.0783 - val_accuracy: 0.7141\n",
            "Epoch 6/10\n",
            "385/385 [==============================] - 27s 70ms/step - loss: 0.0246 - accuracy: 0.9946 - val_loss: 1.1500 - val_accuracy: 0.7087\n",
            "Epoch 7/10\n",
            "385/385 [==============================] - 25s 66ms/step - loss: 0.0172 - accuracy: 0.9963 - val_loss: 1.2281 - val_accuracy: 0.7120\n",
            "Epoch 8/10\n",
            "385/385 [==============================] - 27s 69ms/step - loss: 0.0149 - accuracy: 0.9965 - val_loss: 1.2989 - val_accuracy: 0.7174\n",
            "Epoch 9/10\n",
            "385/385 [==============================] - 27s 70ms/step - loss: 0.0114 - accuracy: 0.9972 - val_loss: 1.4202 - val_accuracy: 0.7077\n",
            "Epoch 10/10\n",
            "385/385 [==============================] - 37s 96ms/step - loss: 0.0105 - accuracy: 0.9972 - val_loss: 1.3909 - val_accuracy: 0.7152\n",
            "27/27 [==============================] - 0s 10ms/step\n",
            "Test set results for  the training data:\n",
            "  Loss: 1.0897\n",
            "  Accuracy: 0.7581\n",
            "Validation set results for  the training data:\n",
            "  Loss: 1.3909\n",
            "  Accuracy: 0.7152\n"
          ]
        }
      ]
    },
    {
      "cell_type": "markdown",
      "source": [
        "The code above is defining a function train_test_cnn that trains and tests a Convolutional Neural Network (CNN) model on different subsets of a given dataset. The subsets are determined by the percentage of data used for training, and the function trains a separate model for each subset. The function takes the file paths of the training, validation, and test datasets, and the path of a directory to save the trained models.\n",
        "\n",
        "in the function, i first loads the datasets using Pandas, and tokenizes the text using the Keras Tokenizer class. The text is padded to have the same length using the pad_sequences function. The labels are encoded using the LabelEncoder class from Scikit-learn.\n",
        "\n",
        "Next, i define a CNN model using the Keras Sequential class, with an embedding layer, a 1 dimension convolutional layer, a max-pooling layer, a flatten layer, and a dense layer. The model is compiled with the Adam optimizer for faster computation time and small parameter tunning and binary cross-entropy loss, and trained on each subset of the training data for 10 epochs (10 iteration of all training data in one cycle for training the neural network model). The training progress is saved in a list of histories.\n",
        "\n",
        "The function then evaluates the trained models on the test set and saves the predictions for each model in a separate file. The test accuracy result for 25% of the data is 0.75, for 50% is 0.74, for 75% is 0.76  and 100% is 0.77 approximately. The test result tells that irrespective of the data size, the model still fit well but a large dataset is preferable to obatin optimum result."
      ],
      "metadata": {
        "id": "nI82DJnKaGT5"
      }
    },
    {
      "cell_type": "markdown",
      "source": [
        "**plot the graph for performance measure for the CNN model against each subset size of the validation and test dataset**"
      ],
      "metadata": {
        "id": "hl0E3n9FKVay"
      }
    },
    {
      "cell_type": "code",
      "source": [
        "# test and validation score are presented in the list below\n",
        "testscores = [0.7303, 0.7360, 0.7523, 0.7581]\n",
        "valscores = [0.7033, 0.7184, 0.7282, 0.7152]\n",
        "\n",
        "print(testscores)\n",
        "print(valscores)\n",
        "\n",
        "# Plot the results\n",
        "from matplotlib import pyplot as plt\n",
        "subset_sizes = [0.25, 0.5, 0.75, 1.0]\n",
        "\n",
        "plt.plot(subset_sizes, valscores, label='Validation Accuracy')\n",
        "plt.plot(subset_sizes, testscores, label='Test Accuracy')\n",
        "plt.xlabel('Data Size')\n",
        "plt.ylabel('Accuracy')\n",
        "plt.title('Accuracy vs Data Size')\n",
        "plt.legend()\n",
        "plt.show()\n"
      ],
      "metadata": {
        "colab": {
          "base_uri": "https://localhost:8080/",
          "height": 507
        },
        "id": "JR_Vm6_ksMWD",
        "outputId": "c02dca01-4540-4dc6-bf84-c7b001c4231c"
      },
      "execution_count": 74,
      "outputs": [
        {
          "output_type": "stream",
          "name": "stdout",
          "text": [
            "[0.7303, 0.736, 0.7523, 0.7581]\n",
            "[0.7033, 0.7184, 0.7282, 0.7152]\n"
          ]
        },
        {
          "output_type": "display_data",
          "data": {
            "text/plain": [
              "<Figure size 640x480 with 1 Axes>"
            ],
            "image/png": "[encoded data removed]"
          },
          "metadata": {}
        }
      ]
    },
    {
      "cell_type": "markdown",
      "source": [
        "The CNN plot of test and validation accuracy show that as the train data size increases, the test accuracy and validation dataset increases as the train dataset become larger, This shows that the larger the data size, the better the accuracy."
      ],
      "metadata": {
        "id": "JNJ3bEDJfQrz"
      }
    }
  ]
}